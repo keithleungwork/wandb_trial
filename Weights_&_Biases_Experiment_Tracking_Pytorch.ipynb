{
  "cells": [
    {
      "cell_type": "markdown",
      "metadata": {
        "id": "B5WgbgaL7E18"
      },
      "source": [
        "## What is this notebook?\n",
        "\n",
        "> This notebook is from [here](https://colab.research.google.com/drive/1OeH5Jq_WRmSNLuq0ApS5iSsUXLvCZFbW?usp=sharing)\n",
        "\n",
        "\n",
        "This notebook showcase how easy and user friendly wandb is. It is from [Weights & Biases](https://wandb.ai/site)."
      ]
    },
    {
      "cell_type": "markdown",
      "metadata": {
        "id": "5J88TdcN9AfS"
      },
      "source": [
        "\n",
        "------\n",
        "\n",
        "\n",
        "## Installation\n",
        "\n",
        "First, visit [pytorch](https://pytorch.org/get-started/locally/) and install torch dependency according to your environment.\n",
        "\n",
        "Then install below libraries.\n",
        "\n",
        "\n"
      ]
    },
    {
      "cell_type": "code",
      "execution_count": 4,
      "metadata": {
        "id": "UuDirGZO9AEg"
      },
      "outputs": [
        {
          "name": "stdout",
          "output_type": "stream",
          "text": [
            "\n",
            "\u001b[1m[\u001b[0m\u001b[34;49mnotice\u001b[0m\u001b[1;39;49m]\u001b[0m\u001b[39;49m A new release of pip is available: \u001b[0m\u001b[31;49m23.0.1\u001b[0m\u001b[39;49m -> \u001b[0m\u001b[32;49m23.2.1\u001b[0m\n",
            "\u001b[1m[\u001b[0m\u001b[34;49mnotice\u001b[0m\u001b[1;39;49m]\u001b[0m\u001b[39;49m To update, run: \u001b[0m\u001b[32;49mpip install --upgrade pip\u001b[0m\n",
            "\n",
            "\u001b[1m[\u001b[0m\u001b[34;49mnotice\u001b[0m\u001b[1;39;49m]\u001b[0m\u001b[39;49m A new release of pip is available: \u001b[0m\u001b[31;49m23.0.1\u001b[0m\u001b[39;49m -> \u001b[0m\u001b[32;49m23.2.1\u001b[0m\n",
            "\u001b[1m[\u001b[0m\u001b[34;49mnotice\u001b[0m\u001b[1;39;49m]\u001b[0m\u001b[39;49m To update, run: \u001b[0m\u001b[32;49mpip install --upgrade pip\u001b[0m\n"
          ]
        }
      ],
      "source": [
        "!pip3 install torch torchvision -q\n",
        "!pip install wandb onnx numpy tqdm  -q"
      ]
    },
    {
      "cell_type": "markdown",
      "metadata": {},
      "source": [
        "### Start local server\n",
        "\n",
        "First start a local server. You will also need to follow [this guide](https://docs.wandb.ai/guides/hosting/how-to-guides/basic-setup) to get the free license.\n",
        "\n",
        "\n",
        "After getting the free license, you can view the license again [here](https://deploy.wandb.ai/). (Because the wandb platform is not clear how to find it.)\n",
        "\n",
        "Start your docker daemon and run below command"
      ]
    },
    {
      "cell_type": "code",
      "execution_count": null,
      "metadata": {},
      "outputs": [],
      "source": [
        "!wandb server start"
      ]
    },
    {
      "cell_type": "markdown",
      "metadata": {},
      "source": [
        "### Code execution\n",
        "\n",
        "After the server started, we can start coding and log the metadata to local wandb."
      ]
    },
    {
      "cell_type": "code",
      "execution_count": 1,
      "metadata": {
        "colab": {
          "base_uri": "https://localhost:8080/"
        },
        "id": "RPqxJD3n_gli",
        "outputId": "1d2ea47b-acbf-4410-acbc-b5a8b89f3b52"
      },
      "outputs": [
        {
          "name": "stdout",
          "output_type": "stream",
          "text": [
            "device:  cpu\n"
          ]
        },
        {
          "name": "stderr",
          "output_type": "stream",
          "text": [
            "/Users/leung.tsz.kit/Desktop/work/code/test/github_repos/wandb_trial/.venv/lib/python3.11/site-packages/tqdm/auto.py:21: TqdmWarning: IProgress not found. Please update jupyter and ipywidgets. See https://ipywidgets.readthedocs.io/en/stable/user_install.html\n",
            "  from .autonotebook import tqdm as notebook_tqdm\n"
          ]
        }
      ],
      "source": [
        "import os\n",
        "import random\n",
        "import numpy as np\n",
        "import torch\n",
        "import torch.nn as nn\n",
        "import torchvision\n",
        "from pathlib import Path\n",
        "from torch.utils.data import TensorDataset,DataLoader\n",
        "\n",
        "from tqdm.auto import tqdm\n",
        "\n",
        "# Setting deterministic behavior, i.e. no randomness\n",
        "torch.backends.cudnn.deterministic = True\n",
        "random.seed(hash(\"setting random seeds\") % 2**32 - 1)\n",
        "np.random.seed(hash(\"improves reproducibility\") % 2**32 - 1)\n",
        "torch.manual_seed(hash(\"by removing stochasticity\") % 2**32 - 1)\n",
        "torch.cuda.manual_seed_all(hash(\"so runs are repeatable\") % 2**32 - 1)\n",
        "\n",
        "# Setting up device\n",
        "device = torch.device(\"cuda:0\" if torch.cuda.is_available() else \"cpu\")\n",
        "print(\"device: \",device)\n",
        "\n",
        "# Removing slow mirrors of MNIST mirror\n",
        "torchvision.datasets.MNIST.mirrors = [mirror for mirror in torchvision.datasets.MNIST.mirrors\n",
        "                                      if not mirror.startswith(\"http://yann.lecun.com\")]\n"
      ]
    },
    {
      "cell_type": "markdown",
      "metadata": {
        "id": "8DpWPj4eBDPK"
      },
      "source": [
        "## Import and Log in to W&B\n",
        "First, create an account / login on the W&B [homepage](https://www.wandb.jp/) \n",
        "\n",
        "You'll be asked for an API key during the initial login. You can find your API keys by clicking the person icon in the top right corner of the W&B screen, pressing User setting, and scrolling down.\n",
        "\n",
        "You can set it in environment variable or run `login`` directly"
      ]
    },
    {
      "cell_type": "code",
      "execution_count": 2,
      "metadata": {},
      "outputs": [
        {
          "name": "stdout",
          "output_type": "stream",
          "text": [
            "Wandb will store everything in :  tmp/wandb/20230814_145417local-example-mnist-pytorch\n"
          ]
        }
      ],
      "source": [
        "# Specifying the project name on wandb platform for tracking\n",
        "import datetime\n",
        "now = datetime.datetime.now().strftime(\"%Y%m%d_%H%M%S\")\n",
        "project_name = now + \"local-example-mnist-pytorch\"\n",
        "\n",
        "# This is secret and shouldn't be checked into version control\n",
        "# os.environ[\"WANDB_API_KEY\"] = \"<your key here>\"\n",
        "os.environ[\"WANDB_API_KEY\"] = \"local-9c0735887ffa34362b304788f06fd6a6087c5efd\"\n",
        "os.environ[\"WANDB_BASE_URL\"] = \"http://localhost:8080\"\n",
        "\n",
        "# This is where wandb store local files\n",
        "LOCAL_TMP_WANDB_DIR = Path(\"./tmp/wandb\").joinpath(project_name)\n",
        "os.makedirs(LOCAL_TMP_WANDB_DIR, exist_ok=True)\n",
        "os.environ[\"WANDB_DIR\"] = str(LOCAL_TMP_WANDB_DIR)\n",
        "\n",
        "print(\"Wandb will store everything in : \", LOCAL_TMP_WANDB_DIR)"
      ]
    },
    {
      "cell_type": "code",
      "execution_count": 3,
      "metadata": {
        "id": "_wp5kQF-BD4u"
      },
      "outputs": [
        {
          "name": "stderr",
          "output_type": "stream",
          "text": [
            "Failed to detect the name of this notebook, you can set it manually with the WANDB_NOTEBOOK_NAME environment variable to enable code saving.\n",
            "\u001b[34m\u001b[1mwandb\u001b[0m: Currently logged in as: \u001b[33mkeith\u001b[0m. Use \u001b[1m`wandb login --relogin`\u001b[0m to force relogin\n"
          ]
        },
        {
          "data": {
            "text/plain": [
              "True"
            ]
          },
          "execution_count": 3,
          "metadata": {},
          "output_type": "execute_result"
        }
      ],
      "source": [
        "# logging in\n",
        "import wandb\n",
        "import os\n",
        "wandb.login()\n"
      ]
    },
    {
      "cell_type": "markdown",
      "metadata": {
        "id": "SZZTssZIp3c8"
      },
      "source": [
        "-----\n",
        "\n",
        "## Managing Data with wandb Integration and Artifacts"
      ]
    },
    {
      "cell_type": "markdown",
      "metadata": {
        "id": "w23DYjC-DUtp"
      },
      "source": [
        "First, we will prepare the data in the following steps.\n",
        "\n",
        "\n",
        "1.  `load_and_log`: Import the mnist data, divide the data into train/validation/test.\n",
        "\n",
        "    - The process itself is standard Pytorch workflow, but the only difference from the standard pipeline is that everything is executed within the wandb.init context (there is another way to upload data to wandb by using wandb.finish at the end of all codes instead of using with clause, but by using with clause, the wandb process ends without forgetting even when an error occurs, and necessary logs are linked to wandb, so we recommend using with clause as a best practice).\n",
        "    - Artifacts are useful for versioning data. By linking to wandb which data was used in the process of training and inference of the model using Artifacts, the experimental process is organized, and reproducibility also improves.\n",
        "2.  `preprocess_and_log`:: Perform preprocessing such as normalization.\n",
        "    - Original data ('mnist-raw:latest') is uploaded to Artifact, and before processing the data, specify which data on Artifact to process using run.use_artifact('mnist-raw:latest'). Going through this process and saving the processed data back to Artifact allows you to check the lineage (relationship) of the processed data, i.e., which data it was derived from, on W&B.\n",
        "\n",
        "\n",
        "\n"
      ]
    },
    {
      "cell_type": "markdown",
      "metadata": {},
      "source": [
        "Before defining the above functions, here are some basic ML code to load/process data."
      ]
    },
    {
      "cell_type": "code",
      "execution_count": 4,
      "metadata": {
        "id": "j-EZD5JMsw8Y"
      },
      "outputs": [],
      "source": [
        "# This preprocess function is used to preprocess the data before training the model\n",
        "def preprocess(dataset, normalize=True, expand_dims=True):\n",
        "  x, y = dataset.tensors\n",
        "  if normalize:\n",
        "      # Scale the image to a range of [0, 1]\n",
        "      x = x.type(torch.float32) / 255\n",
        "  if expand_dims:\n",
        "      # Change the shape of the image to (1, 28, 28)\n",
        "      x = torch.unsqueeze(x, 1)\n",
        "  return TensorDataset(x, y)\n",
        "\n",
        "\n",
        "# This read function is used to read the dataset\n",
        "def read(data_dir, split):\n",
        "  filename = split + \".pt\"\n",
        "  x, y = torch.load(os.path.join(data_dir, filename))\n",
        "  return TensorDataset(x, y)\n",
        "\n",
        "\n",
        "# This load function is used to load and split the MNIST dataset into train, val, test\n",
        "def load(train_size=50000,slice=50):\n",
        "  # Split the data into train and test\n",
        "  train = torchvision.datasets.MNIST(\"./tmp/\", train=True, download=True)\n",
        "  test = torchvision.datasets.MNIST(\"./tmp/\", train=False, download=True)\n",
        "  (x_train, y_train), (x_test, y_test) = (train.data, train.targets), (test.data, test.targets)\n",
        "\n",
        "  # Split train into train and validation\n",
        "  x_train, x_val = x_train[:train_size], x_train[train_size:]\n",
        "  y_train, y_val = y_train[:train_size], y_train[train_size:]\n",
        "\n",
        "  # Extract a portion of the data for hands-on use\n",
        "  training_set = torch.utils.data.Subset(TensorDataset(x_train, y_train), indices=range(0, len(y_train), slice))\n",
        "  validation_set = torch.utils.data.Subset(TensorDataset(x_val, y_val), indices=range(0, len(y_val), slice))\n",
        "  test_set = torch.utils.data.Subset(TensorDataset(x_test, y_test), indices=range(0, len(y_test), slice))\n",
        "\n",
        "  datasets = [training_set, validation_set, test_set]\n",
        "  return datasets\n",
        "\n",
        "\n",
        "# This transform function is used to transform the dataset into TensorDataset\n",
        "def transform_subset2tensordataset(subset):\n",
        "  # Convert subdataset to TensorDataset for saving to Artifact\n",
        "  subset = [subset[i] for i in range(len(subset))]\n",
        "  images = torch.stack([item[0] for item in subset])\n",
        "  labels = torch.tensor([item[1] for item in subset])\n",
        "  data = TensorDataset(images, labels)\n",
        "  return data"
      ]
    },
    {
      "cell_type": "code",
      "execution_count": 5,
      "metadata": {
        "id": "cKFep5_rqACr"
      },
      "outputs": [],
      "source": [
        "def load_and_log():\n",
        "    # Create a \"run\" in wandb\n",
        "    # job_type is a free text field you can use to group your runs\n",
        "    with wandb.init(project=project_name, job_type=\"load-data\") as run:\n",
        "        # Definte the Run name\n",
        "        run.name = \"load-data-\" + run.name\n",
        "\n",
        "        datasets = load()  # separate code for loading the datasets\n",
        "        names = [\"training\", \"validation\", \"test\"]\n",
        "\n",
        "        # Define an Artifact\n",
        "        raw_data = wandb.Artifact(\n",
        "            \"mnist-raw\", type=\"dataset\",\n",
        "            description=\"Raw MNIST dataset, split into train/val/test\",\n",
        "            metadata={\"source\": \"torchvision.datasets.MNIST\",\"sizes\": [len(dataset) for dataset in datasets]}\n",
        "            )\n",
        "\n",
        "        # Save each subset to pt file and add to Artifact\n",
        "        for name, subset in zip(names, datasets):\n",
        "            # Convert subdataset to TensorDataset for saving to Artifact\n",
        "            data = transform_subset2tensordataset(subset)\n",
        "            with raw_data.new_file(name + \".pt\", mode=\"wb\") as file:\n",
        "                x, y = data.tensors\n",
        "                torch.save((x, y), file)\n",
        "\n",
        "        # Save Artifact to W&B\n",
        "        run.log_artifact(raw_data)\n",
        "\n",
        "\n",
        "def preprocess_and_log(steps):\n",
        "    #　Initialize wandb\n",
        "    with wandb.init(project=project_name, job_type=\"preprocess-data\") as run:\n",
        "        # Definte the Run name\n",
        "        run.name = \"preprocess-data-\" + run.name\n",
        "\n",
        "        # Define an Artifact\n",
        "        processed_data = wandb.Artifact(\n",
        "            \"mnist-preprocess\", type=\"dataset\",\n",
        "            description=\"Preprocessed MNIST dataset\",\n",
        "            metadata=steps)\n",
        "\n",
        "        # Define which Artifact to use and download if necessary\n",
        "        # This is how lineage is established between runs\n",
        "        raw_data_artifact = run.use_artifact('mnist-raw:v0')\n",
        "        raw_dataset = raw_data_artifact.download()\n",
        "\n",
        "        for split in [\"training\", \"validation\", \"test\"]:\n",
        "            raw_split = read(raw_dataset, split)\n",
        "            processed_dataset = preprocess(raw_split, **steps)\n",
        "            # After preprocessing, save to Artifact\n",
        "            with processed_data.new_file(split + \".pt\", mode=\"wb\") as file:\n",
        "                x, y = processed_dataset.tensors\n",
        "                torch.save((x, y), file)\n",
        "\n",
        "        run.log_artifact(processed_data)"
      ]
    },
    {
      "cell_type": "markdown",
      "metadata": {},
      "source": [
        "Now, we have the function ready for the two purpose:\n",
        "- Load MNIST dataset from source (pytorch), save to W&B Artifact\n",
        "- Download artifact from W&B, preprocess it, and save to W&B Artifact.\n",
        "\n",
        "Next, let's execute it."
      ]
    },
    {
      "cell_type": "code",
      "execution_count": 6,
      "metadata": {
        "colab": {
          "base_uri": "https://localhost:8080/",
          "height": 694
        },
        "id": "x7Qx78mQtFbl",
        "outputId": "805de793-25a6-4be7-84dd-8ef954c10672"
      },
      "outputs": [
        {
          "data": {
            "text/html": [
              "Tracking run with wandb version 0.15.8"
            ],
            "text/plain": [
              "<IPython.core.display.HTML object>"
            ]
          },
          "metadata": {},
          "output_type": "display_data"
        },
        {
          "data": {
            "text/html": [
              "Run data is saved locally in <code>tmp/wandb/20230814_145417local-example-mnist-pytorch/wandb/run-20230814_145430-v1tir1fr</code>"
            ],
            "text/plain": [
              "<IPython.core.display.HTML object>"
            ]
          },
          "metadata": {},
          "output_type": "display_data"
        },
        {
          "data": {
            "text/html": [
              "Syncing run <strong><a href='http://localhost:8080/keith/20230814_145417local-example-mnist-pytorch/runs/v1tir1fr' target=\"_blank\">royal-serenity-1</a></strong> to <a href='http://localhost:8080/keith/20230814_145417local-example-mnist-pytorch' target=\"_blank\">Weights & Biases</a> (<a href='https://wandb.me/run' target=\"_blank\">docs</a>)<br/>"
            ],
            "text/plain": [
              "<IPython.core.display.HTML object>"
            ]
          },
          "metadata": {},
          "output_type": "display_data"
        },
        {
          "data": {
            "text/html": [
              " View project at <a href='http://localhost:8080/keith/20230814_145417local-example-mnist-pytorch' target=\"_blank\">http://localhost:8080/keith/20230814_145417local-example-mnist-pytorch</a>"
            ],
            "text/plain": [
              "<IPython.core.display.HTML object>"
            ]
          },
          "metadata": {},
          "output_type": "display_data"
        },
        {
          "data": {
            "text/html": [
              " View run at <a href='http://localhost:8080/keith/20230814_145417local-example-mnist-pytorch/runs/v1tir1fr' target=\"_blank\">http://localhost:8080/keith/20230814_145417local-example-mnist-pytorch/runs/v1tir1fr</a>"
            ],
            "text/plain": [
              "<IPython.core.display.HTML object>"
            ]
          },
          "metadata": {},
          "output_type": "display_data"
        },
        {
          "data": {
            "text/html": [
              "Waiting for W&B process to finish... <strong style=\"color:green\">(success).</strong>"
            ],
            "text/plain": [
              "<IPython.core.display.HTML object>"
            ]
          },
          "metadata": {},
          "output_type": "display_data"
        },
        {
          "data": {
            "text/html": [
              " View run <strong style=\"color:#cdcd00\">royal-serenity-1</strong> at: <a href='http://localhost:8080/keith/20230814_145417local-example-mnist-pytorch/runs/v1tir1fr' target=\"_blank\">http://localhost:8080/keith/20230814_145417local-example-mnist-pytorch/runs/v1tir1fr</a><br/>Synced 4 W&B file(s), 0 media file(s), 3 artifact file(s) and 0 other file(s)"
            ],
            "text/plain": [
              "<IPython.core.display.HTML object>"
            ]
          },
          "metadata": {},
          "output_type": "display_data"
        },
        {
          "data": {
            "text/html": [
              "Find logs at: <code>tmp/wandb/20230814_145417local-example-mnist-pytorch/wandb/run-20230814_145430-v1tir1fr/logs</code>"
            ],
            "text/plain": [
              "<IPython.core.display.HTML object>"
            ]
          },
          "metadata": {},
          "output_type": "display_data"
        },
        {
          "data": {
            "text/html": [
              "Tracking run with wandb version 0.15.8"
            ],
            "text/plain": [
              "<IPython.core.display.HTML object>"
            ]
          },
          "metadata": {},
          "output_type": "display_data"
        },
        {
          "data": {
            "text/html": [
              "Run data is saved locally in <code>tmp/wandb/20230814_145417local-example-mnist-pytorch/wandb/run-20230814_145432-pfk56vzo</code>"
            ],
            "text/plain": [
              "<IPython.core.display.HTML object>"
            ]
          },
          "metadata": {},
          "output_type": "display_data"
        },
        {
          "data": {
            "text/html": [
              "Syncing run <strong><a href='http://localhost:8080/keith/20230814_145417local-example-mnist-pytorch/runs/pfk56vzo' target=\"_blank\">wandering-wave-2</a></strong> to <a href='http://localhost:8080/keith/20230814_145417local-example-mnist-pytorch' target=\"_blank\">Weights & Biases</a> (<a href='https://wandb.me/run' target=\"_blank\">docs</a>)<br/>"
            ],
            "text/plain": [
              "<IPython.core.display.HTML object>"
            ]
          },
          "metadata": {},
          "output_type": "display_data"
        },
        {
          "data": {
            "text/html": [
              " View project at <a href='http://localhost:8080/keith/20230814_145417local-example-mnist-pytorch' target=\"_blank\">http://localhost:8080/keith/20230814_145417local-example-mnist-pytorch</a>"
            ],
            "text/plain": [
              "<IPython.core.display.HTML object>"
            ]
          },
          "metadata": {},
          "output_type": "display_data"
        },
        {
          "data": {
            "text/html": [
              " View run at <a href='http://localhost:8080/keith/20230814_145417local-example-mnist-pytorch/runs/pfk56vzo' target=\"_blank\">http://localhost:8080/keith/20230814_145417local-example-mnist-pytorch/runs/pfk56vzo</a>"
            ],
            "text/plain": [
              "<IPython.core.display.HTML object>"
            ]
          },
          "metadata": {},
          "output_type": "display_data"
        },
        {
          "name": "stderr",
          "output_type": "stream",
          "text": [
            "\u001b[34m\u001b[1mwandb\u001b[0m:   3 of 3 files downloaded.  \n"
          ]
        },
        {
          "data": {
            "text/html": [
              "Waiting for W&B process to finish... <strong style=\"color:green\">(success).</strong>"
            ],
            "text/plain": [
              "<IPython.core.display.HTML object>"
            ]
          },
          "metadata": {},
          "output_type": "display_data"
        },
        {
          "data": {
            "text/html": [
              " View run <strong style=\"color:#cdcd00\">wandering-wave-2</strong> at: <a href='http://localhost:8080/keith/20230814_145417local-example-mnist-pytorch/runs/pfk56vzo' target=\"_blank\">http://localhost:8080/keith/20230814_145417local-example-mnist-pytorch/runs/pfk56vzo</a><br/>Synced 5 W&B file(s), 0 media file(s), 3 artifact file(s) and 0 other file(s)"
            ],
            "text/plain": [
              "<IPython.core.display.HTML object>"
            ]
          },
          "metadata": {},
          "output_type": "display_data"
        },
        {
          "data": {
            "text/html": [
              "Find logs at: <code>tmp/wandb/20230814_145417local-example-mnist-pytorch/wandb/run-20230814_145432-pfk56vzo/logs</code>"
            ],
            "text/plain": [
              "<IPython.core.display.HTML object>"
            ]
          },
          "metadata": {},
          "output_type": "display_data"
        }
      ],
      "source": [
        "load_and_log()\n",
        "steps = {\"normalize\": True, \"expand_dims\": True}\n",
        "preprocess_and_log(steps)"
      ]
    },
    {
      "cell_type": "markdown",
      "metadata": {
        "id": "hf2X0e_CAioP"
      },
      "source": [
        "----------\n",
        "\n",
        "\n",
        "## EDA with Table"
      ]
    },
    {
      "cell_type": "markdown",
      "metadata": {
        "id": "65Ce7z2XD5uh"
      },
      "source": [
        "W&B's Table enables Exploratory Data Analysis (EDA) using rich visualization capabilities. In this case, the data used is stored in W&B's table format for EDA on the W&B platform."
      ]
    },
    {
      "cell_type": "code",
      "execution_count": 7,
      "metadata": {
        "colab": {
          "base_uri": "https://localhost:8080/",
          "height": 191,
          "referenced_widgets": [
            "0bb29c173a2e4dd1ad70e0618cf43caf",
            "2b1247f13cff4b44931a54bf3ef99888",
            "889376f11879416eb1bfb6f99a01f2b2",
            "613c43322f324743abf5c88f6bbca2d8",
            "20f7eef5dd2a442aa48e49c8dce3ba02",
            "bfd4b1a026c9419694bc8a5a3520c43b",
            "ab176a074883435988422a421a52b67b",
            "8f7b8338c40c49e8ad2062e03837b37f",
            "e49030c3ee664c7aa685d180be895563",
            "e55376616833480a9b720e97d64fb2a6",
            "bf92bf938cb24e71abf01cb3cf9b4ce9",
            "25796a808a3c40faa5cc8a0b7532d216",
            "32b2057d53e649ba8709317dee4be278",
            "4e81d5934d604e7194035b5ac845c6c7",
            "46ec62f2b3114999a19124c3265173cd",
            "13c17c576df74dea851487a7bd908a02",
            "ad71c975b20c46379fecde9f88f3aad5",
            "63e7faa102b44de0ab96057dcc727a1c",
            "b63817b8a5e043ceb490d8c355b4744a",
            "689c5ce1860045e5be54caa287fbbc77",
            "ff12835a588f49838eee15b68408cb26",
            "6dd6457f9e08482c81df545c33f98eca",
            "d48e7ee5337146c8bc94dacaba24f427",
            "3c846c4512ae46dc912ad7596b88bc8d",
            "e472b22115e3460b815e45cd4ece7546",
            "1f2d67377672447794c7c5bc14280025",
            "3b082f401cae472ca5511e3143958bae",
            "318b2af6d66345a5ae072fca66b75f7d",
            "5aee2f8d87914cf095ff0ca93c264416",
            "3cad4d662911449ba193fe216b7d5d07",
            "64ed346dbb86442fa7a7862e7a7555d7",
            "7d606b4dc4314495a8e585762b9541f9",
            "57e7353bb75f42de8c8653221eada991"
          ]
        },
        "id": "LIwyjWRiAiNs",
        "outputId": "7b7168bf-44d9-40e9-98c3-6c1b6459154b"
      },
      "outputs": [
        {
          "data": {
            "text/html": [
              "Tracking run with wandb version 0.15.8"
            ],
            "text/plain": [
              "<IPython.core.display.HTML object>"
            ]
          },
          "metadata": {},
          "output_type": "display_data"
        },
        {
          "data": {
            "text/html": [
              "Run data is saved locally in <code>tmp/wandb/20230814_145417local-example-mnist-pytorch/wandb/run-20230814_145500-nkxxq75b</code>"
            ],
            "text/plain": [
              "<IPython.core.display.HTML object>"
            ]
          },
          "metadata": {},
          "output_type": "display_data"
        },
        {
          "data": {
            "text/html": [
              "Syncing run <strong><a href='http://localhost:8080/keith/20230814_145417local-example-mnist-pytorch/runs/nkxxq75b' target=\"_blank\">stilted-snow-3</a></strong> to <a href='http://localhost:8080/keith/20230814_145417local-example-mnist-pytorch' target=\"_blank\">Weights & Biases</a> (<a href='https://wandb.me/run' target=\"_blank\">docs</a>)<br/>"
            ],
            "text/plain": [
              "<IPython.core.display.HTML object>"
            ]
          },
          "metadata": {},
          "output_type": "display_data"
        },
        {
          "data": {
            "text/html": [
              " View project at <a href='http://localhost:8080/keith/20230814_145417local-example-mnist-pytorch' target=\"_blank\">http://localhost:8080/keith/20230814_145417local-example-mnist-pytorch</a>"
            ],
            "text/plain": [
              "<IPython.core.display.HTML object>"
            ]
          },
          "metadata": {},
          "output_type": "display_data"
        },
        {
          "data": {
            "text/html": [
              " View run at <a href='http://localhost:8080/keith/20230814_145417local-example-mnist-pytorch/runs/nkxxq75b' target=\"_blank\">http://localhost:8080/keith/20230814_145417local-example-mnist-pytorch/runs/nkxxq75b</a>"
            ],
            "text/plain": [
              "<IPython.core.display.HTML object>"
            ]
          },
          "metadata": {},
          "output_type": "display_data"
        },
        {
          "name": "stderr",
          "output_type": "stream",
          "text": [
            "\u001b[34m\u001b[1mwandb\u001b[0m:   3 of 3 files downloaded.  \n",
            "                                               \r"
          ]
        },
        {
          "data": {
            "text/html": [
              "Waiting for W&B process to finish... <strong style=\"color:green\">(success).</strong>"
            ],
            "text/plain": [
              "<IPython.core.display.HTML object>"
            ]
          },
          "metadata": {},
          "output_type": "display_data"
        },
        {
          "data": {
            "text/html": [
              " View run <strong style=\"color:#cdcd00\">stilted-snow-3</strong> at: <a href='http://localhost:8080/keith/20230814_145417local-example-mnist-pytorch/runs/nkxxq75b' target=\"_blank\">http://localhost:8080/keith/20230814_145417local-example-mnist-pytorch/runs/nkxxq75b</a><br/>Synced 5 W&B file(s), 1 media file(s), 1401 artifact file(s) and 0 other file(s)"
            ],
            "text/plain": [
              "<IPython.core.display.HTML object>"
            ]
          },
          "metadata": {},
          "output_type": "display_data"
        },
        {
          "data": {
            "text/html": [
              "Find logs at: <code>tmp/wandb/20230814_145417local-example-mnist-pytorch/wandb/run-20230814_145500-nkxxq75b/logs</code>"
            ],
            "text/plain": [
              "<IPython.core.display.HTML object>"
            ]
          },
          "metadata": {},
          "output_type": "display_data"
        }
      ],
      "source": [
        "# Create a run in wandb\n",
        "with wandb.init(project=project_name, job_type=\"EDA\") as run:\n",
        "  # Define Run name\n",
        "  run.name = \"EDA-\" + run.name\n",
        "\n",
        "  #  Create a wandb Table (instead of artifact)\n",
        "  table = wandb.Table(columns=[\"image\", \"label\",\"split\"])\n",
        "\n",
        "  # Define which Artifact to use and download if necessary\n",
        "  # Again, it is how artifacts are linked in lineage\n",
        "  raw_data_artifact = run.use_artifact('mnist-raw:latest')\n",
        "  raw_dataset = raw_data_artifact.download()\n",
        "\n",
        "  for split in [\"training\", \"validation\", \"test\"]:\n",
        "    # Note: we are using raw MNIST data\n",
        "    raw_split = read(raw_dataset, split) #<= TensorDataset\n",
        "    data_loader = DataLoader(raw_split, batch_size=100, shuffle=False)\n",
        "    for _, (imgs, labels) in enumerate(tqdm(data_loader,leave=False)):\n",
        "      for img, label in zip(imgs.to(\"cpu\"), labels.to(\"cpu\")):\n",
        "        w_img = wandb.Image(img.numpy())\n",
        "        # Store image, label, and split name in the wandb table\n",
        "        table.add_data(w_img, label, split)\n",
        "\n",
        "  # Upload the table\n",
        "  run.log({'EDA_table_before_training':table})"
      ]
    },
    {
      "cell_type": "markdown",
      "metadata": {
        "id": "PInxUpfDqP-f"
      },
      "source": [
        "-----\n",
        "\n",
        "## Model Training"
      ]
    },
    {
      "cell_type": "markdown",
      "metadata": {
        "id": "803g05hpLFLl"
      },
      "source": [
        "Next, let's proceed with model training. Firstly, we define the overall pipeline, `model_pipeline`. The only difference from a standard pipeline is that everything is performed within the context of wandb.init. Just like when we were \"preparing the data\", calling this function establishes a communication path between the code and our servers.\n",
        "\n",
        "The difference from before is that we're defining a config. In a typical workflow, you store hyperparameters and metadata in a `config` dictionary and access them as needed. Inside `model_pipeline`, we're doing the following:\n",
        "\n",
        "1. `make`: Here, we define the model architecture, set up data loaders, loss functions, and optimization methods. This is essentially the same as the regular Pytorch process.\n",
        "    - By using the Artifact we saved earlier, we can record in the Lineage which data was used for the training of this model.\n",
        "2. `train`: Here, we train the model and validate it against the validation data.\n",
        "    - Here, two functions from wandb, `watch` and `log`, come into play.\n",
        "      - `wandb.watch` is a function that can only be used when integrating with Pytorch. It logs the gradients and parameters of the model every log_freq steps of training. Before starting the training, you simply call `wandb.watch`. The rest of the training code remains the same.\n",
        "      - `wandb.log` allows you to log any information, such as metrics. You can also optionally log which step of the training it is.\n",
        "\n",
        "\n"
      ]
    },
    {
      "cell_type": "markdown",
      "metadata": {
        "id": "vZR2Wn1tIoEk"
      },
      "source": [
        "Let's create a pipeline, manage metadata and hyperparameters with `wandb.init`\n"
      ]
    },
    {
      "cell_type": "code",
      "execution_count": 8,
      "metadata": {
        "id": "2GkRQMiNOp6O"
      },
      "outputs": [],
      "source": [
        "# Conventional and convolutional neural network\n",
        "class ConvNet(nn.Module):\n",
        "    def __init__(self, kernels, dropout, classes=10):\n",
        "        super(ConvNet, self).__init__()\n",
        "        self.layer1 = nn.Sequential(\n",
        "            nn.Conv2d(1, kernels[0], kernel_size=5, stride=1, padding=2),\n",
        "            nn.ReLU(),\n",
        "            nn.Dropout(dropout),\n",
        "            nn.MaxPool2d(kernel_size=2, stride=2))\n",
        "        self.layer2 = nn.Sequential(\n",
        "            nn.Conv2d(kernels[0], kernels[1], kernel_size=5, stride=1, padding=2),\n",
        "            nn.ReLU(),\n",
        "            nn.Dropout(dropout),\n",
        "            nn.MaxPool2d(kernel_size=2, stride=2))\n",
        "        self.fc = nn.Linear(7 * 7 * kernels[-1], classes)\n",
        "\n",
        "    def forward(self, x):\n",
        "        out = self.layer1(x)\n",
        "        out = self.layer2(out)\n",
        "        out = out.reshape(out.size(0), -1)\n",
        "        out = self.fc(out)\n",
        "        return out\n",
        "\n",
        "# This function relies on the `run` arg, so it will be called within a \"with\" statement.\n",
        "def make(config, run):\n",
        "    # Define which Artifact to use and download it if necessary\n",
        "    # Again, it decides the linkage between artifacts in lineage\n",
        "    raw_data_artifact = run.use_artifact('mnist-preprocess:v0', type='dataset')\n",
        "    raw_dataset = raw_data_artifact.download()\n",
        "\n",
        "    # Create data loaders for preprocessed MNIST dataset\n",
        "    train_loader = DataLoader(read(raw_dataset, \"training\"), config.batch_size,\n",
        "                                shuffle=False, pin_memory=True, num_workers=2)\n",
        "    validation_loader = DataLoader(read(raw_dataset, \"validation\"), config.batch_size,\n",
        "                                shuffle=False, pin_memory=True, num_workers=2)\n",
        "    test_loader = DataLoader(read(raw_dataset, \"test\"), config.batch_size,\n",
        "                                shuffle=False, pin_memory=True, num_workers=2)\n",
        "\n",
        "    # Build the model architecture\n",
        "    model = ConvNet(config.kernels,  config.dropout, config.classes).to(device)\n",
        "    # Define the loss function\n",
        "    criterion = nn.CrossEntropyLoss()\n",
        "\n",
        "    # Set the optimization method\n",
        "    if config.optimizer == \"sgd\":\n",
        "        optimizer = torch.optim.SGD(model.parameters(),lr=config.learning_rate, momentum=0.9)\n",
        "    elif config.optimizer == \"adam\":\n",
        "        optimizer = torch.optim.Adam(model.parameters(),lr=config.learning_rate)\n",
        "\n",
        "    return model, train_loader, validation_loader, test_loader, criterion, optimizer\n"
      ]
    },
    {
      "cell_type": "code",
      "execution_count": 12,
      "metadata": {
        "id": "F4xvad8TSHz4"
      },
      "outputs": [],
      "source": [
        "def train(model, training_loader, validation_loader, criterion, optimizer, config, run):\n",
        "    #　Track model gradients, weights, etc. using wandb.watch\n",
        "    # wandb.watch : Hook into the torch model to collect gradients and the topology.\n",
        "    # log_freq :  every N batches\n",
        "    wandb.watch(model, criterion, log=\"all\", log_freq=5)\n",
        "\n",
        "    # Start the learning\n",
        "    table = wandb.Table(columns=[\"image\", \"pred\", \"target\"]+[f\"score_{i}\" for i in range(10)])\n",
        "    example_ct = 0\n",
        "    for epoch in tqdm(range(config.epochs)):\n",
        "        for step, (images, labels) in enumerate(training_loader):\n",
        "            loss = train_batch(images, labels, model, optimizer, criterion)\n",
        "            example_ct +=  len(images)\n",
        "            #　Track the model's loss using run.log\n",
        "            # Log a dictionary of data to the current run's history.\n",
        "            run.log({\"epoch\": epoch, \"train_loss\": loss}, step=example_ct, commit=False)\n",
        "        # Do validation at the end of each epoch\n",
        "        validation(model, validation_loader, criterion,  run, table, log_images=config.log_prediction_iamge)\n",
        "\n",
        "\n",
        "# Train the model for one batch\n",
        "def train_batch(images, labels, model, optimizer, criterion):\n",
        "    images, labels = images.to(device), labels.to(device)\n",
        "\n",
        "    # Forward pass ➡\n",
        "    outputs = model(images)\n",
        "    loss = criterion(outputs, labels)\n",
        "    # Backward pass ⬅\n",
        "    optimizer.zero_grad()\n",
        "    loss.backward()\n",
        "    # Optimization step\n",
        "    optimizer.step()\n",
        "    # Return for wandb logging\n",
        "    return loss\n",
        "\n",
        "\n",
        "# Calculate the validation loss and accuracy, and log to wandb\n",
        "def validation(model, validation_loader, criterion, run, table,  log_images):\n",
        "    model.eval()\n",
        "    with torch.no_grad():\n",
        "        correct, total, val_loss = 0, 0, 0\n",
        "        for images, labels in validation_loader:\n",
        "            images, labels = images.to(device), labels.to(device)\n",
        "            outputs = model(images)\n",
        "            _, predicted = torch.max(outputs.data, 1)\n",
        "            total += labels.size(0)\n",
        "            correct += (predicted == labels).sum().item()\n",
        "            val_loss += criterion(outputs, labels)*labels.size(0)\n",
        "            if log_images:\n",
        "                log_image_table(images, predicted, labels, outputs.softmax(dim=1), run, table)\n",
        "        run.log({\"validation_loss\":val_loss / total ,\"validation_accuracy\": correct / total})\n",
        "\n",
        "\n",
        "def log_image_table(images, predicted, labels, probs, run, table):\n",
        "    # Create a wandb Table and save the images, predicted values, and measured values\n",
        "    for img, pred, targ, prob in zip(images.to(\"cpu\"), predicted.to(\"cpu\"), labels.to(\"cpu\"), probs.to(\"cpu\")):\n",
        "        table.add_data(wandb.Image(img[0].numpy()*255), pred, targ, *prob.numpy())\n",
        "    run.log({\"validation_prediction_table\":table}, commit=False)"
      ]
    },
    {
      "cell_type": "markdown",
      "metadata": {},
      "source": [
        "Then use all above functions to build the end2end pipeline"
      ]
    },
    {
      "cell_type": "code",
      "execution_count": 13,
      "metadata": {
        "id": "U6XGLoZzqkQo"
      },
      "outputs": [],
      "source": [
        "def model_pipeline(config):\n",
        "    #　Create a wandb run\n",
        "    with wandb.init(project=project_name, config=config, job_type=\"training\") as run:\n",
        "        # Define the name of the run\n",
        "        run.name = \"training-\" + run.name\n",
        "        config = wandb.config\n",
        "        # Define model architecture, set up data loaders, loss function, and optimization methods\n",
        "        model, train_loader, validation_loader,_, criterion, optimizer = make(config, run)\n",
        "        # Train the model and validate it with the validation data\n",
        "        train(model, train_loader,validation_loader, criterion, optimizer, config, run)\n",
        "\n",
        "        #　Save the model to the Artifact after training loop\n",
        "        artifact = wandb.Artifact('model', type='model')\n",
        "        with  artifact.new_file('model.pt',mode='wb') as file:\n",
        "            torch.save(model.state_dict(), file)\n",
        "        # Upload to wandb\n",
        "        run.log_artifact(artifact)"
      ]
    },
    {
      "cell_type": "markdown",
      "metadata": {
        "id": "LefR-ss8Z7Zb"
      },
      "source": [
        "### Model Pipeline Execution"
      ]
    },
    {
      "cell_type": "markdown",
      "metadata": {
        "id": "uxX21Mz0Z7Zb"
      },
      "source": [
        "Now that we have defined the entire pipeline and added some W&B code, we're ready to run our tracked experiments. When you run your code using W&B's tracking feature, the following links will be outputted:\n",
        "*   Document\n",
        "*   Project page (a page that organizes all runs within the project)\n",
        "*   Page where the results of the execution are saved\n",
        "\n",
        "\n",
        "Go to the Run page to see the tracked results.\n"
      ]
    },
    {
      "cell_type": "code",
      "execution_count": 14,
      "metadata": {
        "id": "kQBgXhe2Z7Za"
      },
      "outputs": [],
      "source": [
        "# Some hyperparameters for the model, just for demo purposes\n",
        "config = dict(\n",
        "    epochs=10,\n",
        "    kernels=[16, 32],\n",
        "    batch_size=128,\n",
        "    dropout =0.1,\n",
        "    learning_rate=0.005,\n",
        "    optimizer=\"adam\",\n",
        "    log_prediction_iamge=True,\n",
        "    classes=10,\n",
        "    dataset=\"MNIST\",\n",
        "    architecture=\"CNN\"\n",
        ")"
      ]
    },
    {
      "cell_type": "code",
      "execution_count": 15,
      "metadata": {
        "colab": {
          "base_uri": "https://localhost:8080/",
          "height": 405,
          "referenced_widgets": [
            "29e59d6c07e543ef907153ebeb3a67a8",
            "c3498b73df95493ea9e36acd1c5af6bf",
            "b2a55c7583cd4f12b81f18fc6c587731",
            "fc550d54ce0c42c6b7d903dbb9fa18c8",
            "e86194b201aa4fb1afa0c219c9222710",
            "3aa280a27a6045d88cb0e9fb9105d0c1",
            "ee249ccefb0649b1a30ba1772996cbd4",
            "61ad2a71e97c4ee0aa7872674bc04479",
            "d42d903143234302bbca9b30828fbb47",
            "1434db83fea7448a874ba182d547b4e1",
            "1003bb5fceef4dbaa0c46a88726fc741"
          ]
        },
        "id": "27Kq3eF7Z7Zb",
        "outputId": "b479ad07-f4b8-41dc-f402-78fcee02e340"
      },
      "outputs": [
        {
          "data": {
            "text/html": [
              "Tracking run with wandb version 0.15.8"
            ],
            "text/plain": [
              "<IPython.core.display.HTML object>"
            ]
          },
          "metadata": {},
          "output_type": "display_data"
        },
        {
          "data": {
            "text/html": [
              "Run data is saved locally in <code>tmp/wandb/20230814_145417local-example-mnist-pytorch/wandb/run-20230814_145607-3u4cjd6x</code>"
            ],
            "text/plain": [
              "<IPython.core.display.HTML object>"
            ]
          },
          "metadata": {},
          "output_type": "display_data"
        },
        {
          "data": {
            "text/html": [
              "Syncing run <strong><a href='http://localhost:8080/keith/20230814_145417local-example-mnist-pytorch/runs/3u4cjd6x' target=\"_blank\">laced-energy-5</a></strong> to <a href='http://localhost:8080/keith/20230814_145417local-example-mnist-pytorch' target=\"_blank\">Weights & Biases</a> (<a href='https://wandb.me/run' target=\"_blank\">docs</a>)<br/>"
            ],
            "text/plain": [
              "<IPython.core.display.HTML object>"
            ]
          },
          "metadata": {},
          "output_type": "display_data"
        },
        {
          "data": {
            "text/html": [
              " View project at <a href='http://localhost:8080/keith/20230814_145417local-example-mnist-pytorch' target=\"_blank\">http://localhost:8080/keith/20230814_145417local-example-mnist-pytorch</a>"
            ],
            "text/plain": [
              "<IPython.core.display.HTML object>"
            ]
          },
          "metadata": {},
          "output_type": "display_data"
        },
        {
          "data": {
            "text/html": [
              " View run at <a href='http://localhost:8080/keith/20230814_145417local-example-mnist-pytorch/runs/3u4cjd6x' target=\"_blank\">http://localhost:8080/keith/20230814_145417local-example-mnist-pytorch/runs/3u4cjd6x</a>"
            ],
            "text/plain": [
              "<IPython.core.display.HTML object>"
            ]
          },
          "metadata": {},
          "output_type": "display_data"
        },
        {
          "name": "stderr",
          "output_type": "stream",
          "text": [
            "\u001b[34m\u001b[1mwandb\u001b[0m:   3 of 3 files downloaded.  \n",
            "100%|██████████| 10/10 [01:06<00:00,  6.70s/it]\n"
          ]
        },
        {
          "data": {
            "text/html": [
              "Waiting for W&B process to finish... <strong style=\"color:green\">(success).</strong>"
            ],
            "text/plain": [
              "<IPython.core.display.HTML object>"
            ]
          },
          "metadata": {},
          "output_type": "display_data"
        },
        {
          "data": {
            "text/html": [
              "<style>\n",
              "    table.wandb td:nth-child(1) { padding: 0 10px; text-align: left ; width: auto;} td:nth-child(2) {text-align: left ; width: 100%}\n",
              "    .wandb-row { display: flex; flex-direction: row; flex-wrap: wrap; justify-content: flex-start; width: 100% }\n",
              "    .wandb-col { display: flex; flex-direction: column; flex-basis: 100%; flex: 1; padding: 10px; }\n",
              "    </style>\n",
              "<div class=\"wandb-row\"><div class=\"wandb-col\"><h3>Run history:</h3><br/><table class=\"wandb\"><tr><td>epoch</td><td>▁▁▁▁▂▂▂▂▃▃▃▃▃▃▃▃▄▄▄▄▅▅▅▅▆▆▆▆▆▆▆▆▇▇▇▇████</td></tr><tr><td>train_loss</td><td>██▇▅▄▃▃▂▂▂▃▂▂▂▂▂▂▂▂▂▁▁▁▁▁▁▁▁▁▁▁▁▁▁▁▁▁▁▁▁</td></tr><tr><td>validation_accuracy</td><td>▁▄▅▇▇▇▇██▇</td></tr><tr><td>validation_loss</td><td>█▄▃▂▁▂▁▁▂▂</td></tr></table><br/></div><div class=\"wandb-col\"><h3>Run summary:</h3><br/><table class=\"wandb\"><tr><td>epoch</td><td>9</td></tr><tr><td>train_loss</td><td>0.02267</td></tr><tr><td>validation_accuracy</td><td>0.935</td></tr><tr><td>validation_loss</td><td>0.28044</td></tr></table><br/></div></div>"
            ],
            "text/plain": [
              "<IPython.core.display.HTML object>"
            ]
          },
          "metadata": {},
          "output_type": "display_data"
        },
        {
          "data": {
            "text/html": [
              " View run <strong style=\"color:#cdcd00\">laced-energy-5</strong> at: <a href='http://localhost:8080/keith/20230814_145417local-example-mnist-pytorch/runs/3u4cjd6x' target=\"_blank\">http://localhost:8080/keith/20230814_145417local-example-mnist-pytorch/runs/3u4cjd6x</a><br/>Synced 5 W&B file(s), 1 media file(s), 130 artifact file(s) and 0 other file(s)"
            ],
            "text/plain": [
              "<IPython.core.display.HTML object>"
            ]
          },
          "metadata": {},
          "output_type": "display_data"
        },
        {
          "data": {
            "text/html": [
              "Find logs at: <code>tmp/wandb/20230814_145417local-example-mnist-pytorch/wandb/run-20230814_145607-3u4cjd6x/logs</code>"
            ],
            "text/plain": [
              "<IPython.core.display.HTML object>"
            ]
          },
          "metadata": {},
          "output_type": "display_data"
        }
      ],
      "source": [
        "model_pipeline(config)"
      ]
    },
    {
      "cell_type": "markdown",
      "metadata": {
        "id": "TfV-tcXjqlAD"
      },
      "source": [
        "------\n",
        "\n",
        "## Hyperparameter Tuning"
      ]
    },
    {
      "cell_type": "markdown",
      "metadata": {
        "id": "5Rmj7e18cBuv"
      },
      "source": [
        "A Sweep is a tool for optimizing hyperparameters and models. With a few lines of code, you can conduct hyperparameter tuning. First, define the requirements of the hyperparameters to be optimized. Then, choose the method of hyperparameter optimization (random search or grid search) and select the metric to optimize.\n",
        "\n",
        "\n",
        "\n"
      ]
    },
    {
      "cell_type": "markdown",
      "metadata": {
        "id": "np3U3pCqqphZ"
      },
      "source": [
        "We will do hyperparameter Tuning Using Sweep"
      ]
    },
    {
      "cell_type": "code",
      "execution_count": 16,
      "metadata": {
        "id": "QpXGLdo6qk16"
      },
      "outputs": [],
      "source": [
        "sweep_config = {\n",
        "    'method': 'random',\n",
        "    'metric': {\n",
        "        'name': 'validation_loss',\n",
        "        'goal': 'minimize'\n",
        "        },\n",
        "    }\n",
        "parameters_dict = {\n",
        "    'optimizer': {\n",
        "        'values': ['adam', 'sgd']\n",
        "        },\n",
        "    'dropout': {\n",
        "          'values': [0.1, 0.2, 0.3]\n",
        "        },\n",
        "    'learning_rate': {\n",
        "        # Generate random numbers uniformly distributed between 0 and 0.1\n",
        "        'distribution': 'uniform',\n",
        "        'min': 0,\n",
        "        'max': 0.1\n",
        "      },\n",
        "    'batch_size': {\n",
        "        # Generate random numbers from a distribution equally spaced on a logarithmic scale between 32 and 256\n",
        "        'distribution': 'q_log_uniform_values',\n",
        "        'q': 8,\n",
        "        'min': 32,\n",
        "        'max': 256,\n",
        "      },\n",
        "    'kernels':{\n",
        "        'values':[[16,32],[32,64]]\n",
        "      },\n",
        "    'epochs':{\n",
        "        'value':5\n",
        "    },\n",
        "    'classes':{\n",
        "        'value':10,\n",
        "    },\n",
        "    'dataset':{\n",
        "        'value':'MNIST',\n",
        "    },\n",
        "    'architecture':{\n",
        "        'value':'CNN',\n",
        "    },\n",
        "    'log_prediction_iamge':{\n",
        "        'value':False\n",
        "    },\n",
        "    }\n",
        "\n",
        "sweep_config['parameters'] = parameters_dict\n",
        "\n",
        "#🐝 Create a function for Sweep\n",
        "def model_pipeline_sweep(config=None):\n",
        "    #🐝　Create a run with wandb\n",
        "    with wandb.init(config=config) as run:\n",
        "      config = run.config\n",
        "      # Define the model architecture, set up the dataloader, loss function, and optimization method\n",
        "      model, train_loader, validation_loader, _,criterion, optimizer = make(config, run)\n",
        "      # Train the model and validate it against validation data\n",
        "      train(model, train_loader, validation_loader, criterion, optimizer, config, run)\n",
        "      #🐝　Save the model to Artifact\n",
        "      artifact = wandb.Artifact('model', type='model')\n",
        "      with  artifact.new_file('model.pt',mode='wb') as file:\n",
        "          torch.save(model.state_dict(), file)\n",
        "      run.log_artifact(artifact)"
      ]
    },
    {
      "cell_type": "code",
      "execution_count": 17,
      "metadata": {
        "colab": {
          "base_uri": "https://localhost:8080/",
          "height": 1000,
          "referenced_widgets": [
            "2b317f694cc9469a9e4d6d983f04fcb2",
            "e2204710ca904831993ef3d9115329a0",
            "dcef28253d6d4ccf9c72fff2ee74e7ab",
            "6097b9b58fcf4149bf3fdb55e5edc49a",
            "99e60ab8bb924e1fa351ed33444aeffa",
            "e620938672db4967bdcb1f9987b15d29",
            "3b262b51a87a453791aa07690715bab5",
            "aca81f6a50944399b43bb38bad5fe3f9",
            "4d8a4c693f4448aeae4ea71e0923957d",
            "40b007809ffc4c3793ed32f774f446c2",
            "712fc6b661c44f4980bb8d8c3a412d03",
            "54ea7b834c514c358573f295ccd59182",
            "2046856f9bd54fd9a0eb1d2ea7803b98",
            "b2b797114b9a43f3b13322b08af308ba",
            "5555687e25ad4bd4a347b96c313b9675",
            "60827d864cf94c1b840014eb12be204c",
            "5842d18c74c3408ab842964ee7a383f0",
            "34a64d6fb9e5410ebe5bb4dc4ea1ef1e",
            "a0e46012b0b84f0389465554b10f40d7",
            "03be1b52ba8a41739bcc2f0c761d8d79",
            "8bcbecb4858d4a4f88e029d245f1bf84",
            "1af06cbcb3cc4f4d923fc2a55612b80a",
            "c96f788292804f26a35ea0a2d03a4a4a",
            "93229349785e4af293420ee088ec4137",
            "cfb141f52dbe404cbdf28ff308679b5c",
            "cf468f60fdb44bed98dc290a3f2bc9ea",
            "3826c2ed56f24f709bbb58b17ad55209",
            "c9ceebc6b02b4c28b595961beb9f4887",
            "a12b11bd583e4d16b4ff19ac1d5993d3",
            "f66b4d478a6746f49d5017db1fb7b8a5",
            "c16e498f57054469a9318100187bda5b",
            "c345a1117bb144918e786a03e990bc7b",
            "d2dabca50b7c4ebf97d6d38825484427",
            "3e520d56a31b4e14b388df60a436f04d",
            "ef33eff124944841af387bd6dc0db218",
            "4b20ceb12b704c09b9fef01a37ff5d12",
            "ed0a4450661e4ba3b0217edeeb29b816",
            "4314ba0936c14d65b1b1c06b1d1de4e8",
            "7c79f4b9193c452d820a5583da81b002",
            "cda97d81a25342f188caa3aeb0b8c793",
            "be5e678c4d0444499c7724536d8440dc",
            "24f200d466b445bc8f65cdbdf706eecd",
            "13a4b163ffdc4323af034989f6da3c00",
            "a5bc2054f20446fdab8a55c8a83f9e27",
            "a929d4f0bec1423386cb9b424a05289b",
            "8df7cce50601485b96896b2d99e6571c",
            "23b8489caf9f4e639ff24bae1c2f59a8",
            "6b38fd18fde145fa8e6a74fc95f42159",
            "f404d2d8dab240e1856f4ee0f4f148ca",
            "2e9cb0206ae3447b9167b4e598f4be3e",
            "dcb05027922e4d1fb7f64a036da5f18b",
            "3b0264a81f914fdea9fa0c0736be3e8a",
            "cebb1af30c35435fa22cf50527b3bee8",
            "c839ea5d3d3645ada84321cdbcef221f",
            "fff0ed064be54d98adb7df509e5cdded"
          ]
        },
        "id": "rM8wlIHEZ7Zb",
        "outputId": "f418d498-7e5d-43f7-ecfb-54ed980787df"
      },
      "outputs": [
        {
          "name": "stdout",
          "output_type": "stream",
          "text": [
            "Create sweep with ID: 6u6nmhv5\n",
            "Sweep URL: http://localhost:8080/keith/20230814_145417local-example-mnist-pytorch/sweeps/6u6nmhv5\n"
          ]
        },
        {
          "name": "stderr",
          "output_type": "stream",
          "text": [
            "\u001b[34m\u001b[1mwandb\u001b[0m: Agent Starting Run: 62iraj7o with config:\n",
            "\u001b[34m\u001b[1mwandb\u001b[0m: \tarchitecture: CNN\n",
            "\u001b[34m\u001b[1mwandb\u001b[0m: \tbatch_size: 32\n",
            "\u001b[34m\u001b[1mwandb\u001b[0m: \tclasses: 10\n",
            "\u001b[34m\u001b[1mwandb\u001b[0m: \tdataset: MNIST\n",
            "\u001b[34m\u001b[1mwandb\u001b[0m: \tdropout: 0.2\n",
            "\u001b[34m\u001b[1mwandb\u001b[0m: \tepochs: 5\n",
            "\u001b[34m\u001b[1mwandb\u001b[0m: \tkernels: [32, 64]\n",
            "\u001b[34m\u001b[1mwandb\u001b[0m: \tlearning_rate: 0.05920082884401609\n",
            "\u001b[34m\u001b[1mwandb\u001b[0m: \tlog_prediction_iamge: False\n",
            "\u001b[34m\u001b[1mwandb\u001b[0m: \toptimizer: adam\n",
            "Failed to detect the name of this notebook, you can set it manually with the WANDB_NOTEBOOK_NAME environment variable to enable code saving.\n"
          ]
        },
        {
          "data": {
            "text/html": [
              "Tracking run with wandb version 0.15.8"
            ],
            "text/plain": [
              "<IPython.core.display.HTML object>"
            ]
          },
          "metadata": {},
          "output_type": "display_data"
        },
        {
          "data": {
            "text/html": [
              "Run data is saved locally in <code>tmp/wandb/20230814_145417local-example-mnist-pytorch/wandb/run-20230814_145758-62iraj7o</code>"
            ],
            "text/plain": [
              "<IPython.core.display.HTML object>"
            ]
          },
          "metadata": {},
          "output_type": "display_data"
        },
        {
          "data": {
            "text/html": [
              "Syncing run <strong><a href='http://localhost:8080/keith/20230814_145417local-example-mnist-pytorch/runs/62iraj7o' target=\"_blank\">toasty-sweep-1</a></strong> to <a href='http://localhost:8080/keith/20230814_145417local-example-mnist-pytorch' target=\"_blank\">Weights & Biases</a> (<a href='https://wandb.me/run' target=\"_blank\">docs</a>)<br/>Sweep page: <a href='http://localhost:8080/keith/20230814_145417local-example-mnist-pytorch/sweeps/6u6nmhv5' target=\"_blank\">http://localhost:8080/keith/20230814_145417local-example-mnist-pytorch/sweeps/6u6nmhv5</a>"
            ],
            "text/plain": [
              "<IPython.core.display.HTML object>"
            ]
          },
          "metadata": {},
          "output_type": "display_data"
        },
        {
          "data": {
            "text/html": [
              " View project at <a href='http://localhost:8080/keith/20230814_145417local-example-mnist-pytorch' target=\"_blank\">http://localhost:8080/keith/20230814_145417local-example-mnist-pytorch</a>"
            ],
            "text/plain": [
              "<IPython.core.display.HTML object>"
            ]
          },
          "metadata": {},
          "output_type": "display_data"
        },
        {
          "data": {
            "text/html": [
              " View sweep at <a href='http://localhost:8080/keith/20230814_145417local-example-mnist-pytorch/sweeps/6u6nmhv5' target=\"_blank\">http://localhost:8080/keith/20230814_145417local-example-mnist-pytorch/sweeps/6u6nmhv5</a>"
            ],
            "text/plain": [
              "<IPython.core.display.HTML object>"
            ]
          },
          "metadata": {},
          "output_type": "display_data"
        },
        {
          "data": {
            "text/html": [
              " View run at <a href='http://localhost:8080/keith/20230814_145417local-example-mnist-pytorch/runs/62iraj7o' target=\"_blank\">http://localhost:8080/keith/20230814_145417local-example-mnist-pytorch/runs/62iraj7o</a>"
            ],
            "text/plain": [
              "<IPython.core.display.HTML object>"
            ]
          },
          "metadata": {},
          "output_type": "display_data"
        },
        {
          "name": "stderr",
          "output_type": "stream",
          "text": [
            "\u001b[34m\u001b[1mwandb\u001b[0m:   3 of 3 files downloaded.  \n",
            "100%|██████████| 5/5 [00:34<00:00,  6.94s/it]\n"
          ]
        },
        {
          "data": {
            "text/html": [
              "Waiting for W&B process to finish... <strong style=\"color:green\">(success).</strong>"
            ],
            "text/plain": [
              "<IPython.core.display.HTML object>"
            ]
          },
          "metadata": {},
          "output_type": "display_data"
        },
        {
          "data": {
            "text/html": [
              "<style>\n",
              "    table.wandb td:nth-child(1) { padding: 0 10px; text-align: left ; width: auto;} td:nth-child(2) {text-align: left ; width: 100%}\n",
              "    .wandb-row { display: flex; flex-direction: row; flex-wrap: wrap; justify-content: flex-start; width: 100% }\n",
              "    .wandb-col { display: flex; flex-direction: column; flex-basis: 100%; flex: 1; padding: 10px; }\n",
              "    </style>\n",
              "<div class=\"wandb-row\"><div class=\"wandb-col\"><h3>Run history:</h3><br/><table class=\"wandb\"><tr><td>epoch</td><td>▁▁▁▁▁▁▁▁▃▃▃▃▃▃▃▃▅▅▅▅▅▅▅▅▆▆▆▆▆▆▆▆████████</td></tr><tr><td>train_loss</td><td>█▁▁▁▁▁▁▁▁▁▁▁▁▁▁▁▁▁▁▁▁▁▁▁▁▁▁▁▁▁▁▁▁▁▁▁▁▁▁▁</td></tr><tr><td>validation_accuracy</td><td>▁▁▁▁▁</td></tr><tr><td>validation_loss</td><td>█▁▁▁▁</td></tr></table><br/></div><div class=\"wandb-col\"><h3>Run summary:</h3><br/><table class=\"wandb\"><tr><td>epoch</td><td>4</td></tr><tr><td>train_loss</td><td>2.36617</td></tr><tr><td>validation_accuracy</td><td>0.11</td></tr><tr><td>validation_loss</td><td>2.30826</td></tr></table><br/></div></div>"
            ],
            "text/plain": [
              "<IPython.core.display.HTML object>"
            ]
          },
          "metadata": {},
          "output_type": "display_data"
        },
        {
          "data": {
            "text/html": [
              " View run <strong style=\"color:#cdcd00\">toasty-sweep-1</strong> at: <a href='http://localhost:8080/keith/20230814_145417local-example-mnist-pytorch/runs/62iraj7o' target=\"_blank\">http://localhost:8080/keith/20230814_145417local-example-mnist-pytorch/runs/62iraj7o</a><br/>Synced 5 W&B file(s), 0 media file(s), 1 artifact file(s) and 0 other file(s)"
            ],
            "text/plain": [
              "<IPython.core.display.HTML object>"
            ]
          },
          "metadata": {},
          "output_type": "display_data"
        },
        {
          "data": {
            "text/html": [
              "Find logs at: <code>tmp/wandb/20230814_145417local-example-mnist-pytorch/wandb/run-20230814_145758-62iraj7o/logs</code>"
            ],
            "text/plain": [
              "<IPython.core.display.HTML object>"
            ]
          },
          "metadata": {},
          "output_type": "display_data"
        },
        {
          "name": "stderr",
          "output_type": "stream",
          "text": [
            "\u001b[34m\u001b[1mwandb\u001b[0m: Agent Starting Run: aeqa7vkp with config:\n",
            "\u001b[34m\u001b[1mwandb\u001b[0m: \tarchitecture: CNN\n",
            "\u001b[34m\u001b[1mwandb\u001b[0m: \tbatch_size: 160\n",
            "\u001b[34m\u001b[1mwandb\u001b[0m: \tclasses: 10\n",
            "\u001b[34m\u001b[1mwandb\u001b[0m: \tdataset: MNIST\n",
            "\u001b[34m\u001b[1mwandb\u001b[0m: \tdropout: 0.1\n",
            "\u001b[34m\u001b[1mwandb\u001b[0m: \tepochs: 5\n",
            "\u001b[34m\u001b[1mwandb\u001b[0m: \tkernels: [16, 32]\n",
            "\u001b[34m\u001b[1mwandb\u001b[0m: \tlearning_rate: 0.004889491678429114\n",
            "\u001b[34m\u001b[1mwandb\u001b[0m: \tlog_prediction_iamge: False\n",
            "\u001b[34m\u001b[1mwandb\u001b[0m: \toptimizer: sgd\n",
            "Failed to detect the name of this notebook, you can set it manually with the WANDB_NOTEBOOK_NAME environment variable to enable code saving.\n"
          ]
        },
        {
          "data": {
            "text/html": [
              "Tracking run with wandb version 0.15.8"
            ],
            "text/plain": [
              "<IPython.core.display.HTML object>"
            ]
          },
          "metadata": {},
          "output_type": "display_data"
        },
        {
          "data": {
            "text/html": [
              "Run data is saved locally in <code>tmp/wandb/20230814_145417local-example-mnist-pytorch/wandb/run-20230814_145843-aeqa7vkp</code>"
            ],
            "text/plain": [
              "<IPython.core.display.HTML object>"
            ]
          },
          "metadata": {},
          "output_type": "display_data"
        },
        {
          "data": {
            "text/html": [
              "Syncing run <strong><a href='http://localhost:8080/keith/20230814_145417local-example-mnist-pytorch/runs/aeqa7vkp' target=\"_blank\">unique-sweep-2</a></strong> to <a href='http://localhost:8080/keith/20230814_145417local-example-mnist-pytorch' target=\"_blank\">Weights & Biases</a> (<a href='https://wandb.me/run' target=\"_blank\">docs</a>)<br/>Sweep page: <a href='http://localhost:8080/keith/20230814_145417local-example-mnist-pytorch/sweeps/6u6nmhv5' target=\"_blank\">http://localhost:8080/keith/20230814_145417local-example-mnist-pytorch/sweeps/6u6nmhv5</a>"
            ],
            "text/plain": [
              "<IPython.core.display.HTML object>"
            ]
          },
          "metadata": {},
          "output_type": "display_data"
        },
        {
          "data": {
            "text/html": [
              " View project at <a href='http://localhost:8080/keith/20230814_145417local-example-mnist-pytorch' target=\"_blank\">http://localhost:8080/keith/20230814_145417local-example-mnist-pytorch</a>"
            ],
            "text/plain": [
              "<IPython.core.display.HTML object>"
            ]
          },
          "metadata": {},
          "output_type": "display_data"
        },
        {
          "data": {
            "text/html": [
              " View sweep at <a href='http://localhost:8080/keith/20230814_145417local-example-mnist-pytorch/sweeps/6u6nmhv5' target=\"_blank\">http://localhost:8080/keith/20230814_145417local-example-mnist-pytorch/sweeps/6u6nmhv5</a>"
            ],
            "text/plain": [
              "<IPython.core.display.HTML object>"
            ]
          },
          "metadata": {},
          "output_type": "display_data"
        },
        {
          "data": {
            "text/html": [
              " View run at <a href='http://localhost:8080/keith/20230814_145417local-example-mnist-pytorch/runs/aeqa7vkp' target=\"_blank\">http://localhost:8080/keith/20230814_145417local-example-mnist-pytorch/runs/aeqa7vkp</a>"
            ],
            "text/plain": [
              "<IPython.core.display.HTML object>"
            ]
          },
          "metadata": {},
          "output_type": "display_data"
        },
        {
          "name": "stderr",
          "output_type": "stream",
          "text": [
            "\u001b[34m\u001b[1mwandb\u001b[0m:   3 of 3 files downloaded.  \n",
            "100%|██████████| 5/5 [00:30<00:00,  6.15s/it]\n"
          ]
        },
        {
          "data": {
            "text/html": [
              "Waiting for W&B process to finish... <strong style=\"color:green\">(success).</strong>"
            ],
            "text/plain": [
              "<IPython.core.display.HTML object>"
            ]
          },
          "metadata": {},
          "output_type": "display_data"
        },
        {
          "data": {
            "text/html": [
              "<style>\n",
              "    table.wandb td:nth-child(1) { padding: 0 10px; text-align: left ; width: auto;} td:nth-child(2) {text-align: left ; width: 100%}\n",
              "    .wandb-row { display: flex; flex-direction: row; flex-wrap: wrap; justify-content: flex-start; width: 100% }\n",
              "    .wandb-col { display: flex; flex-direction: column; flex-basis: 100%; flex: 1; padding: 10px; }\n",
              "    </style>\n",
              "<div class=\"wandb-row\"><div class=\"wandb-col\"><h3>Run history:</h3><br/><table class=\"wandb\"><tr><td>epoch</td><td>▁▁▁▁▁▁▁▃▃▃▃▃▃▃▅▅▅▅▅▅▅▆▆▆▆▆▆▆███████</td></tr><tr><td>train_loss</td><td>█████▇█▇▇▇▇▇▇▇▇▆▆▆▆▆▅▆▅▅▅▅▅▄▄▄▄▄▃▃▁</td></tr><tr><td>validation_accuracy</td><td>▁▂▃▄█</td></tr><tr><td>validation_loss</td><td>█▇▆▄▁</td></tr></table><br/></div><div class=\"wandb-col\"><h3>Run summary:</h3><br/><table class=\"wandb\"><tr><td>epoch</td><td>4</td></tr><tr><td>train_loss</td><td>1.97263</td></tr><tr><td>validation_accuracy</td><td>0.59</td></tr><tr><td>validation_loss</td><td>2.0184</td></tr></table><br/></div></div>"
            ],
            "text/plain": [
              "<IPython.core.display.HTML object>"
            ]
          },
          "metadata": {},
          "output_type": "display_data"
        },
        {
          "data": {
            "text/html": [
              " View run <strong style=\"color:#cdcd00\">unique-sweep-2</strong> at: <a href='http://localhost:8080/keith/20230814_145417local-example-mnist-pytorch/runs/aeqa7vkp' target=\"_blank\">http://localhost:8080/keith/20230814_145417local-example-mnist-pytorch/runs/aeqa7vkp</a><br/>Synced 5 W&B file(s), 0 media file(s), 1 artifact file(s) and 0 other file(s)"
            ],
            "text/plain": [
              "<IPython.core.display.HTML object>"
            ]
          },
          "metadata": {},
          "output_type": "display_data"
        },
        {
          "data": {
            "text/html": [
              "Find logs at: <code>tmp/wandb/20230814_145417local-example-mnist-pytorch/wandb/run-20230814_145843-aeqa7vkp/logs</code>"
            ],
            "text/plain": [
              "<IPython.core.display.HTML object>"
            ]
          },
          "metadata": {},
          "output_type": "display_data"
        },
        {
          "name": "stderr",
          "output_type": "stream",
          "text": [
            "\u001b[34m\u001b[1mwandb\u001b[0m: Agent Starting Run: q2z7qkdy with config:\n",
            "\u001b[34m\u001b[1mwandb\u001b[0m: \tarchitecture: CNN\n",
            "\u001b[34m\u001b[1mwandb\u001b[0m: \tbatch_size: 64\n",
            "\u001b[34m\u001b[1mwandb\u001b[0m: \tclasses: 10\n",
            "\u001b[34m\u001b[1mwandb\u001b[0m: \tdataset: MNIST\n",
            "\u001b[34m\u001b[1mwandb\u001b[0m: \tdropout: 0.2\n",
            "\u001b[34m\u001b[1mwandb\u001b[0m: \tepochs: 5\n",
            "\u001b[34m\u001b[1mwandb\u001b[0m: \tkernels: [16, 32]\n",
            "\u001b[34m\u001b[1mwandb\u001b[0m: \tlearning_rate: 0.08335131404212613\n",
            "\u001b[34m\u001b[1mwandb\u001b[0m: \tlog_prediction_iamge: False\n",
            "\u001b[34m\u001b[1mwandb\u001b[0m: \toptimizer: adam\n",
            "Failed to detect the name of this notebook, you can set it manually with the WANDB_NOTEBOOK_NAME environment variable to enable code saving.\n"
          ]
        },
        {
          "data": {
            "text/html": [
              "Tracking run with wandb version 0.15.8"
            ],
            "text/plain": [
              "<IPython.core.display.HTML object>"
            ]
          },
          "metadata": {},
          "output_type": "display_data"
        },
        {
          "data": {
            "text/html": [
              "Run data is saved locally in <code>tmp/wandb/20230814_145417local-example-mnist-pytorch/wandb/run-20230814_145923-q2z7qkdy</code>"
            ],
            "text/plain": [
              "<IPython.core.display.HTML object>"
            ]
          },
          "metadata": {},
          "output_type": "display_data"
        },
        {
          "data": {
            "text/html": [
              "Syncing run <strong><a href='http://localhost:8080/keith/20230814_145417local-example-mnist-pytorch/runs/q2z7qkdy' target=\"_blank\">wandering-sweep-3</a></strong> to <a href='http://localhost:8080/keith/20230814_145417local-example-mnist-pytorch' target=\"_blank\">Weights & Biases</a> (<a href='https://wandb.me/run' target=\"_blank\">docs</a>)<br/>Sweep page: <a href='http://localhost:8080/keith/20230814_145417local-example-mnist-pytorch/sweeps/6u6nmhv5' target=\"_blank\">http://localhost:8080/keith/20230814_145417local-example-mnist-pytorch/sweeps/6u6nmhv5</a>"
            ],
            "text/plain": [
              "<IPython.core.display.HTML object>"
            ]
          },
          "metadata": {},
          "output_type": "display_data"
        },
        {
          "data": {
            "text/html": [
              " View project at <a href='http://localhost:8080/keith/20230814_145417local-example-mnist-pytorch' target=\"_blank\">http://localhost:8080/keith/20230814_145417local-example-mnist-pytorch</a>"
            ],
            "text/plain": [
              "<IPython.core.display.HTML object>"
            ]
          },
          "metadata": {},
          "output_type": "display_data"
        },
        {
          "data": {
            "text/html": [
              " View sweep at <a href='http://localhost:8080/keith/20230814_145417local-example-mnist-pytorch/sweeps/6u6nmhv5' target=\"_blank\">http://localhost:8080/keith/20230814_145417local-example-mnist-pytorch/sweeps/6u6nmhv5</a>"
            ],
            "text/plain": [
              "<IPython.core.display.HTML object>"
            ]
          },
          "metadata": {},
          "output_type": "display_data"
        },
        {
          "data": {
            "text/html": [
              " View run at <a href='http://localhost:8080/keith/20230814_145417local-example-mnist-pytorch/runs/q2z7qkdy' target=\"_blank\">http://localhost:8080/keith/20230814_145417local-example-mnist-pytorch/runs/q2z7qkdy</a>"
            ],
            "text/plain": [
              "<IPython.core.display.HTML object>"
            ]
          },
          "metadata": {},
          "output_type": "display_data"
        },
        {
          "name": "stderr",
          "output_type": "stream",
          "text": [
            "\u001b[34m\u001b[1mwandb\u001b[0m:   3 of 3 files downloaded.  \n",
            "100%|██████████| 5/5 [00:31<00:00,  6.33s/it]\n"
          ]
        },
        {
          "data": {
            "text/html": [
              "Waiting for W&B process to finish... <strong style=\"color:green\">(success).</strong>"
            ],
            "text/plain": [
              "<IPython.core.display.HTML object>"
            ]
          },
          "metadata": {},
          "output_type": "display_data"
        },
        {
          "data": {
            "text/html": [
              "<style>\n",
              "    table.wandb td:nth-child(1) { padding: 0 10px; text-align: left ; width: auto;} td:nth-child(2) {text-align: left ; width: 100%}\n",
              "    .wandb-row { display: flex; flex-direction: row; flex-wrap: wrap; justify-content: flex-start; width: 100% }\n",
              "    .wandb-col { display: flex; flex-direction: column; flex-basis: 100%; flex: 1; padding: 10px; }\n",
              "    </style>\n",
              "<div class=\"wandb-row\"><div class=\"wandb-col\"><h3>Run history:</h3><br/><table class=\"wandb\"><tr><td>epoch</td><td>▁▁▁▁▁▁▁▁▃▃▃▃▃▃▃▃▅▅▅▅▅▅▅▅▆▆▆▆▆▆▆▆████████</td></tr><tr><td>train_loss</td><td>▁█▁▁▁▁▁▁▁▁▁▁▁▁▁▁▁▁▁▁▁▁▁▁▁▁▁▁▁▁▁▁▁▁▁▁▁▁▁▁</td></tr><tr><td>validation_accuracy</td><td>▁▁▁▁▁</td></tr><tr><td>validation_loss</td><td>▁█▃▁▂</td></tr></table><br/></div><div class=\"wandb-col\"><h3>Run summary:</h3><br/><table class=\"wandb\"><tr><td>epoch</td><td>4</td></tr><tr><td>train_loss</td><td>2.3249</td></tr><tr><td>validation_accuracy</td><td>0.11</td></tr><tr><td>validation_loss</td><td>2.30681</td></tr></table><br/></div></div>"
            ],
            "text/plain": [
              "<IPython.core.display.HTML object>"
            ]
          },
          "metadata": {},
          "output_type": "display_data"
        },
        {
          "data": {
            "text/html": [
              " View run <strong style=\"color:#cdcd00\">wandering-sweep-3</strong> at: <a href='http://localhost:8080/keith/20230814_145417local-example-mnist-pytorch/runs/q2z7qkdy' target=\"_blank\">http://localhost:8080/keith/20230814_145417local-example-mnist-pytorch/runs/q2z7qkdy</a><br/>Synced 5 W&B file(s), 0 media file(s), 1 artifact file(s) and 0 other file(s)"
            ],
            "text/plain": [
              "<IPython.core.display.HTML object>"
            ]
          },
          "metadata": {},
          "output_type": "display_data"
        },
        {
          "data": {
            "text/html": [
              "Find logs at: <code>tmp/wandb/20230814_145417local-example-mnist-pytorch/wandb/run-20230814_145923-q2z7qkdy/logs</code>"
            ],
            "text/plain": [
              "<IPython.core.display.HTML object>"
            ]
          },
          "metadata": {},
          "output_type": "display_data"
        },
        {
          "name": "stderr",
          "output_type": "stream",
          "text": [
            "\u001b[34m\u001b[1mwandb\u001b[0m: Agent Starting Run: 99wj6ahz with config:\n",
            "\u001b[34m\u001b[1mwandb\u001b[0m: \tarchitecture: CNN\n",
            "\u001b[34m\u001b[1mwandb\u001b[0m: \tbatch_size: 40\n",
            "\u001b[34m\u001b[1mwandb\u001b[0m: \tclasses: 10\n",
            "\u001b[34m\u001b[1mwandb\u001b[0m: \tdataset: MNIST\n",
            "\u001b[34m\u001b[1mwandb\u001b[0m: \tdropout: 0.1\n",
            "\u001b[34m\u001b[1mwandb\u001b[0m: \tepochs: 5\n",
            "\u001b[34m\u001b[1mwandb\u001b[0m: \tkernels: [32, 64]\n",
            "\u001b[34m\u001b[1mwandb\u001b[0m: \tlearning_rate: 0.07325595128696923\n",
            "\u001b[34m\u001b[1mwandb\u001b[0m: \tlog_prediction_iamge: False\n",
            "\u001b[34m\u001b[1mwandb\u001b[0m: \toptimizer: adam\n",
            "Failed to detect the name of this notebook, you can set it manually with the WANDB_NOTEBOOK_NAME environment variable to enable code saving.\n"
          ]
        },
        {
          "data": {
            "text/html": [
              "Tracking run with wandb version 0.15.8"
            ],
            "text/plain": [
              "<IPython.core.display.HTML object>"
            ]
          },
          "metadata": {},
          "output_type": "display_data"
        },
        {
          "data": {
            "text/html": [
              "Run data is saved locally in <code>tmp/wandb/20230814_145417local-example-mnist-pytorch/wandb/run-20230814_150003-99wj6ahz</code>"
            ],
            "text/plain": [
              "<IPython.core.display.HTML object>"
            ]
          },
          "metadata": {},
          "output_type": "display_data"
        },
        {
          "data": {
            "text/html": [
              "Syncing run <strong><a href='http://localhost:8080/keith/20230814_145417local-example-mnist-pytorch/runs/99wj6ahz' target=\"_blank\">earnest-sweep-4</a></strong> to <a href='http://localhost:8080/keith/20230814_145417local-example-mnist-pytorch' target=\"_blank\">Weights & Biases</a> (<a href='https://wandb.me/run' target=\"_blank\">docs</a>)<br/>Sweep page: <a href='http://localhost:8080/keith/20230814_145417local-example-mnist-pytorch/sweeps/6u6nmhv5' target=\"_blank\">http://localhost:8080/keith/20230814_145417local-example-mnist-pytorch/sweeps/6u6nmhv5</a>"
            ],
            "text/plain": [
              "<IPython.core.display.HTML object>"
            ]
          },
          "metadata": {},
          "output_type": "display_data"
        },
        {
          "data": {
            "text/html": [
              " View project at <a href='http://localhost:8080/keith/20230814_145417local-example-mnist-pytorch' target=\"_blank\">http://localhost:8080/keith/20230814_145417local-example-mnist-pytorch</a>"
            ],
            "text/plain": [
              "<IPython.core.display.HTML object>"
            ]
          },
          "metadata": {},
          "output_type": "display_data"
        },
        {
          "data": {
            "text/html": [
              " View sweep at <a href='http://localhost:8080/keith/20230814_145417local-example-mnist-pytorch/sweeps/6u6nmhv5' target=\"_blank\">http://localhost:8080/keith/20230814_145417local-example-mnist-pytorch/sweeps/6u6nmhv5</a>"
            ],
            "text/plain": [
              "<IPython.core.display.HTML object>"
            ]
          },
          "metadata": {},
          "output_type": "display_data"
        },
        {
          "data": {
            "text/html": [
              " View run at <a href='http://localhost:8080/keith/20230814_145417local-example-mnist-pytorch/runs/99wj6ahz' target=\"_blank\">http://localhost:8080/keith/20230814_145417local-example-mnist-pytorch/runs/99wj6ahz</a>"
            ],
            "text/plain": [
              "<IPython.core.display.HTML object>"
            ]
          },
          "metadata": {},
          "output_type": "display_data"
        },
        {
          "name": "stderr",
          "output_type": "stream",
          "text": [
            "\u001b[34m\u001b[1mwandb\u001b[0m:   3 of 3 files downloaded.  \n",
            "100%|██████████| 5/5 [00:35<00:00,  7.05s/it]\n"
          ]
        },
        {
          "data": {
            "text/html": [
              "Waiting for W&B process to finish... <strong style=\"color:green\">(success).</strong>"
            ],
            "text/plain": [
              "<IPython.core.display.HTML object>"
            ]
          },
          "metadata": {},
          "output_type": "display_data"
        },
        {
          "data": {
            "text/html": [
              "<style>\n",
              "    table.wandb td:nth-child(1) { padding: 0 10px; text-align: left ; width: auto;} td:nth-child(2) {text-align: left ; width: 100%}\n",
              "    .wandb-row { display: flex; flex-direction: row; flex-wrap: wrap; justify-content: flex-start; width: 100% }\n",
              "    .wandb-col { display: flex; flex-direction: column; flex-basis: 100%; flex: 1; padding: 10px; }\n",
              "    </style>\n",
              "<div class=\"wandb-row\"><div class=\"wandb-col\"><h3>Run history:</h3><br/><table class=\"wandb\"><tr><td>epoch</td><td>▁▁▁▁▁▁▁▁▃▃▃▃▃▃▃▃▅▅▅▅▅▅▅▅▆▆▆▆▆▆▆▆████████</td></tr><tr><td>train_loss</td><td>▂█▂▂▁▂▂▂▃▁▂▂▂▂▂▂▂▂▂▂▃▂▂▂▂▃▂▂▁▃▂▂▂▂▂▂▁▃▂▂</td></tr><tr><td>validation_accuracy</td><td>▁▁▁▁▁</td></tr><tr><td>validation_loss</td><td>█▁▄▃▃</td></tr></table><br/></div><div class=\"wandb-col\"><h3>Run summary:</h3><br/><table class=\"wandb\"><tr><td>epoch</td><td>4</td></tr><tr><td>train_loss</td><td>2.33305</td></tr><tr><td>validation_accuracy</td><td>0.11</td></tr><tr><td>validation_loss</td><td>2.30913</td></tr></table><br/></div></div>"
            ],
            "text/plain": [
              "<IPython.core.display.HTML object>"
            ]
          },
          "metadata": {},
          "output_type": "display_data"
        },
        {
          "data": {
            "text/html": [
              " View run <strong style=\"color:#cdcd00\">earnest-sweep-4</strong> at: <a href='http://localhost:8080/keith/20230814_145417local-example-mnist-pytorch/runs/99wj6ahz' target=\"_blank\">http://localhost:8080/keith/20230814_145417local-example-mnist-pytorch/runs/99wj6ahz</a><br/>Synced 5 W&B file(s), 0 media file(s), 1 artifact file(s) and 0 other file(s)"
            ],
            "text/plain": [
              "<IPython.core.display.HTML object>"
            ]
          },
          "metadata": {},
          "output_type": "display_data"
        },
        {
          "data": {
            "text/html": [
              "Find logs at: <code>tmp/wandb/20230814_145417local-example-mnist-pytorch/wandb/run-20230814_150003-99wj6ahz/logs</code>"
            ],
            "text/plain": [
              "<IPython.core.display.HTML object>"
            ]
          },
          "metadata": {},
          "output_type": "display_data"
        },
        {
          "name": "stderr",
          "output_type": "stream",
          "text": [
            "\u001b[34m\u001b[1mwandb\u001b[0m: Agent Starting Run: 1luoxxib with config:\n",
            "\u001b[34m\u001b[1mwandb\u001b[0m: \tarchitecture: CNN\n",
            "\u001b[34m\u001b[1mwandb\u001b[0m: \tbatch_size: 192\n",
            "\u001b[34m\u001b[1mwandb\u001b[0m: \tclasses: 10\n",
            "\u001b[34m\u001b[1mwandb\u001b[0m: \tdataset: MNIST\n",
            "\u001b[34m\u001b[1mwandb\u001b[0m: \tdropout: 0.3\n",
            "\u001b[34m\u001b[1mwandb\u001b[0m: \tepochs: 5\n",
            "\u001b[34m\u001b[1mwandb\u001b[0m: \tkernels: [32, 64]\n",
            "\u001b[34m\u001b[1mwandb\u001b[0m: \tlearning_rate: 0.010762898949392275\n",
            "\u001b[34m\u001b[1mwandb\u001b[0m: \tlog_prediction_iamge: False\n",
            "\u001b[34m\u001b[1mwandb\u001b[0m: \toptimizer: adam\n",
            "Failed to detect the name of this notebook, you can set it manually with the WANDB_NOTEBOOK_NAME environment variable to enable code saving.\n"
          ]
        },
        {
          "data": {
            "text/html": [
              "Tracking run with wandb version 0.15.8"
            ],
            "text/plain": [
              "<IPython.core.display.HTML object>"
            ]
          },
          "metadata": {},
          "output_type": "display_data"
        },
        {
          "data": {
            "text/html": [
              "Run data is saved locally in <code>tmp/wandb/20230814_145417local-example-mnist-pytorch/wandb/run-20230814_150048-1luoxxib</code>"
            ],
            "text/plain": [
              "<IPython.core.display.HTML object>"
            ]
          },
          "metadata": {},
          "output_type": "display_data"
        },
        {
          "data": {
            "text/html": [
              "Syncing run <strong><a href='http://localhost:8080/keith/20230814_145417local-example-mnist-pytorch/runs/1luoxxib' target=\"_blank\">super-sweep-5</a></strong> to <a href='http://localhost:8080/keith/20230814_145417local-example-mnist-pytorch' target=\"_blank\">Weights & Biases</a> (<a href='https://wandb.me/run' target=\"_blank\">docs</a>)<br/>Sweep page: <a href='http://localhost:8080/keith/20230814_145417local-example-mnist-pytorch/sweeps/6u6nmhv5' target=\"_blank\">http://localhost:8080/keith/20230814_145417local-example-mnist-pytorch/sweeps/6u6nmhv5</a>"
            ],
            "text/plain": [
              "<IPython.core.display.HTML object>"
            ]
          },
          "metadata": {},
          "output_type": "display_data"
        },
        {
          "data": {
            "text/html": [
              " View project at <a href='http://localhost:8080/keith/20230814_145417local-example-mnist-pytorch' target=\"_blank\">http://localhost:8080/keith/20230814_145417local-example-mnist-pytorch</a>"
            ],
            "text/plain": [
              "<IPython.core.display.HTML object>"
            ]
          },
          "metadata": {},
          "output_type": "display_data"
        },
        {
          "data": {
            "text/html": [
              " View sweep at <a href='http://localhost:8080/keith/20230814_145417local-example-mnist-pytorch/sweeps/6u6nmhv5' target=\"_blank\">http://localhost:8080/keith/20230814_145417local-example-mnist-pytorch/sweeps/6u6nmhv5</a>"
            ],
            "text/plain": [
              "<IPython.core.display.HTML object>"
            ]
          },
          "metadata": {},
          "output_type": "display_data"
        },
        {
          "data": {
            "text/html": [
              " View run at <a href='http://localhost:8080/keith/20230814_145417local-example-mnist-pytorch/runs/1luoxxib' target=\"_blank\">http://localhost:8080/keith/20230814_145417local-example-mnist-pytorch/runs/1luoxxib</a>"
            ],
            "text/plain": [
              "<IPython.core.display.HTML object>"
            ]
          },
          "metadata": {},
          "output_type": "display_data"
        },
        {
          "name": "stderr",
          "output_type": "stream",
          "text": [
            "\u001b[34m\u001b[1mwandb\u001b[0m:   3 of 3 files downloaded.  \n",
            "100%|██████████| 5/5 [00:34<00:00,  6.99s/it]\n"
          ]
        },
        {
          "data": {
            "text/html": [
              "Waiting for W&B process to finish... <strong style=\"color:green\">(success).</strong>"
            ],
            "text/plain": [
              "<IPython.core.display.HTML object>"
            ]
          },
          "metadata": {},
          "output_type": "display_data"
        },
        {
          "data": {
            "text/html": [
              "<style>\n",
              "    table.wandb td:nth-child(1) { padding: 0 10px; text-align: left ; width: auto;} td:nth-child(2) {text-align: left ; width: 100%}\n",
              "    .wandb-row { display: flex; flex-direction: row; flex-wrap: wrap; justify-content: flex-start; width: 100% }\n",
              "    .wandb-col { display: flex; flex-direction: column; flex-basis: 100%; flex: 1; padding: 10px; }\n",
              "    </style>\n",
              "<div class=\"wandb-row\"><div class=\"wandb-col\"><h3>Run history:</h3><br/><table class=\"wandb\"><tr><td>epoch</td><td>▁▁▁▁▁▁▃▃▃▃▃▃▅▅▅▅▅▅▆▆▆▆▆▆██████</td></tr><tr><td>train_loss</td><td>▃█▃▃▃▃▃▃▃▃▃▃▃▂▂▂▂▂▂▂▂▂▁▁▁▁▁▁▁▁</td></tr><tr><td>validation_accuracy</td><td>▁▅▇██</td></tr><tr><td>validation_loss</td><td>█▆▂▂▁</td></tr></table><br/></div><div class=\"wandb-col\"><h3>Run summary:</h3><br/><table class=\"wandb\"><tr><td>epoch</td><td>4</td></tr><tr><td>train_loss</td><td>0.26661</td></tr><tr><td>validation_accuracy</td><td>0.87</td></tr><tr><td>validation_loss</td><td>0.44034</td></tr></table><br/></div></div>"
            ],
            "text/plain": [
              "<IPython.core.display.HTML object>"
            ]
          },
          "metadata": {},
          "output_type": "display_data"
        },
        {
          "data": {
            "text/html": [
              " View run <strong style=\"color:#cdcd00\">super-sweep-5</strong> at: <a href='http://localhost:8080/keith/20230814_145417local-example-mnist-pytorch/runs/1luoxxib' target=\"_blank\">http://localhost:8080/keith/20230814_145417local-example-mnist-pytorch/runs/1luoxxib</a><br/>Synced 5 W&B file(s), 0 media file(s), 1 artifact file(s) and 0 other file(s)"
            ],
            "text/plain": [
              "<IPython.core.display.HTML object>"
            ]
          },
          "metadata": {},
          "output_type": "display_data"
        },
        {
          "data": {
            "text/html": [
              "Find logs at: <code>tmp/wandb/20230814_145417local-example-mnist-pytorch/wandb/run-20230814_150048-1luoxxib/logs</code>"
            ],
            "text/plain": [
              "<IPython.core.display.HTML object>"
            ]
          },
          "metadata": {},
          "output_type": "display_data"
        }
      ],
      "source": [
        "sweep_id = wandb.sweep(sweep_config, project=project_name)\n",
        "wandb.agent(sweep_id=sweep_id, function=model_pipeline_sweep, count=5)"
      ]
    }
  ],
  "metadata": {
    "accelerator": "GPU",
    "colab": {
      "provenance": [],
      "toc_visible": true
    },
    "kernelspec": {
      "display_name": "Python 3",
      "name": "python3"
    },
    "language_info": {
      "codemirror_mode": {
        "name": "ipython",
        "version": 3
      },
      "file_extension": ".py",
      "mimetype": "text/x-python",
      "name": "python",
      "nbconvert_exporter": "python",
      "pygments_lexer": "ipython3",
      "version": "3.11.3"
    },
    "widgets": {
      "application/vnd.jupyter.widget-state+json": {
        "03be1b52ba8a41739bcc2f0c761d8d79": {
          "model_module": "@jupyter-widgets/controls",
          "model_module_version": "1.5.0",
          "model_name": "ProgressStyleModel",
          "state": {
            "_model_module": "@jupyter-widgets/controls",
            "_model_module_version": "1.5.0",
            "_model_name": "ProgressStyleModel",
            "_view_count": null,
            "_view_module": "@jupyter-widgets/base",
            "_view_module_version": "1.2.0",
            "_view_name": "StyleView",
            "bar_color": null,
            "description_width": ""
          }
        },
        "0bb29c173a2e4dd1ad70e0618cf43caf": {
          "model_module": "@jupyter-widgets/controls",
          "model_module_version": "1.5.0",
          "model_name": "HBoxModel",
          "state": {
            "_dom_classes": [],
            "_model_module": "@jupyter-widgets/controls",
            "_model_module_version": "1.5.0",
            "_model_name": "HBoxModel",
            "_view_count": null,
            "_view_module": "@jupyter-widgets/controls",
            "_view_module_version": "1.5.0",
            "_view_name": "HBoxView",
            "box_style": "",
            "children": [
              "IPY_MODEL_2b1247f13cff4b44931a54bf3ef99888",
              "IPY_MODEL_889376f11879416eb1bfb6f99a01f2b2",
              "IPY_MODEL_613c43322f324743abf5c88f6bbca2d8"
            ],
            "layout": "IPY_MODEL_20f7eef5dd2a442aa48e49c8dce3ba02"
          }
        },
        "1003bb5fceef4dbaa0c46a88726fc741": {
          "model_module": "@jupyter-widgets/controls",
          "model_module_version": "1.5.0",
          "model_name": "DescriptionStyleModel",
          "state": {
            "_model_module": "@jupyter-widgets/controls",
            "_model_module_version": "1.5.0",
            "_model_name": "DescriptionStyleModel",
            "_view_count": null,
            "_view_module": "@jupyter-widgets/base",
            "_view_module_version": "1.2.0",
            "_view_name": "StyleView",
            "description_width": ""
          }
        },
        "13a4b163ffdc4323af034989f6da3c00": {
          "model_module": "@jupyter-widgets/base",
          "model_module_version": "1.2.0",
          "model_name": "LayoutModel",
          "state": {
            "_model_module": "@jupyter-widgets/base",
            "_model_module_version": "1.2.0",
            "_model_name": "LayoutModel",
            "_view_count": null,
            "_view_module": "@jupyter-widgets/base",
            "_view_module_version": "1.2.0",
            "_view_name": "LayoutView",
            "align_content": null,
            "align_items": null,
            "align_self": null,
            "border": null,
            "bottom": null,
            "display": null,
            "flex": null,
            "flex_flow": null,
            "grid_area": null,
            "grid_auto_columns": null,
            "grid_auto_flow": null,
            "grid_auto_rows": null,
            "grid_column": null,
            "grid_gap": null,
            "grid_row": null,
            "grid_template_areas": null,
            "grid_template_columns": null,
            "grid_template_rows": null,
            "height": null,
            "justify_content": null,
            "justify_items": null,
            "left": null,
            "margin": null,
            "max_height": null,
            "max_width": null,
            "min_height": null,
            "min_width": null,
            "object_fit": null,
            "object_position": null,
            "order": null,
            "overflow": null,
            "overflow_x": null,
            "overflow_y": null,
            "padding": null,
            "right": null,
            "top": null,
            "visibility": null,
            "width": null
          }
        },
        "13c17c576df74dea851487a7bd908a02": {
          "model_module": "@jupyter-widgets/base",
          "model_module_version": "1.2.0",
          "model_name": "LayoutModel",
          "state": {
            "_model_module": "@jupyter-widgets/base",
            "_model_module_version": "1.2.0",
            "_model_name": "LayoutModel",
            "_view_count": null,
            "_view_module": "@jupyter-widgets/base",
            "_view_module_version": "1.2.0",
            "_view_name": "LayoutView",
            "align_content": null,
            "align_items": null,
            "align_self": null,
            "border": null,
            "bottom": null,
            "display": null,
            "flex": null,
            "flex_flow": null,
            "grid_area": null,
            "grid_auto_columns": null,
            "grid_auto_flow": null,
            "grid_auto_rows": null,
            "grid_column": null,
            "grid_gap": null,
            "grid_row": null,
            "grid_template_areas": null,
            "grid_template_columns": null,
            "grid_template_rows": null,
            "height": null,
            "justify_content": null,
            "justify_items": null,
            "left": null,
            "margin": null,
            "max_height": null,
            "max_width": null,
            "min_height": null,
            "min_width": null,
            "object_fit": null,
            "object_position": null,
            "order": null,
            "overflow": null,
            "overflow_x": null,
            "overflow_y": null,
            "padding": null,
            "right": null,
            "top": null,
            "visibility": "hidden",
            "width": null
          }
        },
        "1434db83fea7448a874ba182d547b4e1": {
          "model_module": "@jupyter-widgets/base",
          "model_module_version": "1.2.0",
          "model_name": "LayoutModel",
          "state": {
            "_model_module": "@jupyter-widgets/base",
            "_model_module_version": "1.2.0",
            "_model_name": "LayoutModel",
            "_view_count": null,
            "_view_module": "@jupyter-widgets/base",
            "_view_module_version": "1.2.0",
            "_view_name": "LayoutView",
            "align_content": null,
            "align_items": null,
            "align_self": null,
            "border": null,
            "bottom": null,
            "display": null,
            "flex": null,
            "flex_flow": null,
            "grid_area": null,
            "grid_auto_columns": null,
            "grid_auto_flow": null,
            "grid_auto_rows": null,
            "grid_column": null,
            "grid_gap": null,
            "grid_row": null,
            "grid_template_areas": null,
            "grid_template_columns": null,
            "grid_template_rows": null,
            "height": null,
            "justify_content": null,
            "justify_items": null,
            "left": null,
            "margin": null,
            "max_height": null,
            "max_width": null,
            "min_height": null,
            "min_width": null,
            "object_fit": null,
            "object_position": null,
            "order": null,
            "overflow": null,
            "overflow_x": null,
            "overflow_y": null,
            "padding": null,
            "right": null,
            "top": null,
            "visibility": null,
            "width": null
          }
        },
        "1af06cbcb3cc4f4d923fc2a55612b80a": {
          "model_module": "@jupyter-widgets/controls",
          "model_module_version": "1.5.0",
          "model_name": "DescriptionStyleModel",
          "state": {
            "_model_module": "@jupyter-widgets/controls",
            "_model_module_version": "1.5.0",
            "_model_name": "DescriptionStyleModel",
            "_view_count": null,
            "_view_module": "@jupyter-widgets/base",
            "_view_module_version": "1.2.0",
            "_view_name": "StyleView",
            "description_width": ""
          }
        },
        "1f2d67377672447794c7c5bc14280025": {
          "model_module": "@jupyter-widgets/controls",
          "model_module_version": "1.5.0",
          "model_name": "HTMLModel",
          "state": {
            "_dom_classes": [],
            "_model_module": "@jupyter-widgets/controls",
            "_model_module_version": "1.5.0",
            "_model_name": "HTMLModel",
            "_view_count": null,
            "_view_module": "@jupyter-widgets/controls",
            "_view_module_version": "1.5.0",
            "_view_name": "HTMLView",
            "description": "",
            "description_tooltip": null,
            "layout": "IPY_MODEL_7d606b4dc4314495a8e585762b9541f9",
            "placeholder": "​",
            "style": "IPY_MODEL_57e7353bb75f42de8c8653221eada991",
            "value": " 1/2 [00:00&lt;00:00,  8.84it/s]"
          }
        },
        "2046856f9bd54fd9a0eb1d2ea7803b98": {
          "model_module": "@jupyter-widgets/controls",
          "model_module_version": "1.5.0",
          "model_name": "HTMLModel",
          "state": {
            "_dom_classes": [],
            "_model_module": "@jupyter-widgets/controls",
            "_model_module_version": "1.5.0",
            "_model_name": "HTMLModel",
            "_view_count": null,
            "_view_module": "@jupyter-widgets/controls",
            "_view_module_version": "1.5.0",
            "_view_name": "HTMLView",
            "description": "",
            "description_tooltip": null,
            "layout": "IPY_MODEL_5842d18c74c3408ab842964ee7a383f0",
            "placeholder": "​",
            "style": "IPY_MODEL_34a64d6fb9e5410ebe5bb4dc4ea1ef1e",
            "value": "100%"
          }
        },
        "20f7eef5dd2a442aa48e49c8dce3ba02": {
          "model_module": "@jupyter-widgets/base",
          "model_module_version": "1.2.0",
          "model_name": "LayoutModel",
          "state": {
            "_model_module": "@jupyter-widgets/base",
            "_model_module_version": "1.2.0",
            "_model_name": "LayoutModel",
            "_view_count": null,
            "_view_module": "@jupyter-widgets/base",
            "_view_module_version": "1.2.0",
            "_view_name": "LayoutView",
            "align_content": null,
            "align_items": null,
            "align_self": null,
            "border": null,
            "bottom": null,
            "display": null,
            "flex": null,
            "flex_flow": null,
            "grid_area": null,
            "grid_auto_columns": null,
            "grid_auto_flow": null,
            "grid_auto_rows": null,
            "grid_column": null,
            "grid_gap": null,
            "grid_row": null,
            "grid_template_areas": null,
            "grid_template_columns": null,
            "grid_template_rows": null,
            "height": null,
            "justify_content": null,
            "justify_items": null,
            "left": null,
            "margin": null,
            "max_height": null,
            "max_width": null,
            "min_height": null,
            "min_width": null,
            "object_fit": null,
            "object_position": null,
            "order": null,
            "overflow": null,
            "overflow_x": null,
            "overflow_y": null,
            "padding": null,
            "right": null,
            "top": null,
            "visibility": "hidden",
            "width": null
          }
        },
        "23b8489caf9f4e639ff24bae1c2f59a8": {
          "model_module": "@jupyter-widgets/controls",
          "model_module_version": "1.5.0",
          "model_name": "FloatProgressModel",
          "state": {
            "_dom_classes": [],
            "_model_module": "@jupyter-widgets/controls",
            "_model_module_version": "1.5.0",
            "_model_name": "FloatProgressModel",
            "_view_count": null,
            "_view_module": "@jupyter-widgets/controls",
            "_view_module_version": "1.5.0",
            "_view_name": "ProgressView",
            "bar_style": "success",
            "description": "",
            "description_tooltip": null,
            "layout": "IPY_MODEL_3b0264a81f914fdea9fa0c0736be3e8a",
            "max": 5,
            "min": 0,
            "orientation": "horizontal",
            "style": "IPY_MODEL_cebb1af30c35435fa22cf50527b3bee8",
            "value": 5
          }
        },
        "24f200d466b445bc8f65cdbdf706eecd": {
          "model_module": "@jupyter-widgets/controls",
          "model_module_version": "1.5.0",
          "model_name": "ProgressStyleModel",
          "state": {
            "_model_module": "@jupyter-widgets/controls",
            "_model_module_version": "1.5.0",
            "_model_name": "ProgressStyleModel",
            "_view_count": null,
            "_view_module": "@jupyter-widgets/base",
            "_view_module_version": "1.2.0",
            "_view_name": "StyleView",
            "bar_color": null,
            "description_width": ""
          }
        },
        "25796a808a3c40faa5cc8a0b7532d216": {
          "model_module": "@jupyter-widgets/controls",
          "model_module_version": "1.5.0",
          "model_name": "HBoxModel",
          "state": {
            "_dom_classes": [],
            "_model_module": "@jupyter-widgets/controls",
            "_model_module_version": "1.5.0",
            "_model_name": "HBoxModel",
            "_view_count": null,
            "_view_module": "@jupyter-widgets/controls",
            "_view_module_version": "1.5.0",
            "_view_name": "HBoxView",
            "box_style": "",
            "children": [
              "IPY_MODEL_32b2057d53e649ba8709317dee4be278",
              "IPY_MODEL_4e81d5934d604e7194035b5ac845c6c7",
              "IPY_MODEL_46ec62f2b3114999a19124c3265173cd"
            ],
            "layout": "IPY_MODEL_13c17c576df74dea851487a7bd908a02"
          }
        },
        "29e59d6c07e543ef907153ebeb3a67a8": {
          "model_module": "@jupyter-widgets/controls",
          "model_module_version": "1.5.0",
          "model_name": "HBoxModel",
          "state": {
            "_dom_classes": [],
            "_model_module": "@jupyter-widgets/controls",
            "_model_module_version": "1.5.0",
            "_model_name": "HBoxModel",
            "_view_count": null,
            "_view_module": "@jupyter-widgets/controls",
            "_view_module_version": "1.5.0",
            "_view_name": "HBoxView",
            "box_style": "",
            "children": [
              "IPY_MODEL_c3498b73df95493ea9e36acd1c5af6bf",
              "IPY_MODEL_b2a55c7583cd4f12b81f18fc6c587731",
              "IPY_MODEL_fc550d54ce0c42c6b7d903dbb9fa18c8"
            ],
            "layout": "IPY_MODEL_e86194b201aa4fb1afa0c219c9222710"
          }
        },
        "2b1247f13cff4b44931a54bf3ef99888": {
          "model_module": "@jupyter-widgets/controls",
          "model_module_version": "1.5.0",
          "model_name": "HTMLModel",
          "state": {
            "_dom_classes": [],
            "_model_module": "@jupyter-widgets/controls",
            "_model_module_version": "1.5.0",
            "_model_name": "HTMLModel",
            "_view_count": null,
            "_view_module": "@jupyter-widgets/controls",
            "_view_module_version": "1.5.0",
            "_view_name": "HTMLView",
            "description": "",
            "description_tooltip": null,
            "layout": "IPY_MODEL_bfd4b1a026c9419694bc8a5a3520c43b",
            "placeholder": "​",
            "style": "IPY_MODEL_ab176a074883435988422a421a52b67b",
            "value": " 90%"
          }
        },
        "2b317f694cc9469a9e4d6d983f04fcb2": {
          "model_module": "@jupyter-widgets/controls",
          "model_module_version": "1.5.0",
          "model_name": "HBoxModel",
          "state": {
            "_dom_classes": [],
            "_model_module": "@jupyter-widgets/controls",
            "_model_module_version": "1.5.0",
            "_model_name": "HBoxModel",
            "_view_count": null,
            "_view_module": "@jupyter-widgets/controls",
            "_view_module_version": "1.5.0",
            "_view_name": "HBoxView",
            "box_style": "",
            "children": [
              "IPY_MODEL_e2204710ca904831993ef3d9115329a0",
              "IPY_MODEL_dcef28253d6d4ccf9c72fff2ee74e7ab",
              "IPY_MODEL_6097b9b58fcf4149bf3fdb55e5edc49a"
            ],
            "layout": "IPY_MODEL_99e60ab8bb924e1fa351ed33444aeffa"
          }
        },
        "2e9cb0206ae3447b9167b4e598f4be3e": {
          "model_module": "@jupyter-widgets/base",
          "model_module_version": "1.2.0",
          "model_name": "LayoutModel",
          "state": {
            "_model_module": "@jupyter-widgets/base",
            "_model_module_version": "1.2.0",
            "_model_name": "LayoutModel",
            "_view_count": null,
            "_view_module": "@jupyter-widgets/base",
            "_view_module_version": "1.2.0",
            "_view_name": "LayoutView",
            "align_content": null,
            "align_items": null,
            "align_self": null,
            "border": null,
            "bottom": null,
            "display": null,
            "flex": null,
            "flex_flow": null,
            "grid_area": null,
            "grid_auto_columns": null,
            "grid_auto_flow": null,
            "grid_auto_rows": null,
            "grid_column": null,
            "grid_gap": null,
            "grid_row": null,
            "grid_template_areas": null,
            "grid_template_columns": null,
            "grid_template_rows": null,
            "height": null,
            "justify_content": null,
            "justify_items": null,
            "left": null,
            "margin": null,
            "max_height": null,
            "max_width": null,
            "min_height": null,
            "min_width": null,
            "object_fit": null,
            "object_position": null,
            "order": null,
            "overflow": null,
            "overflow_x": null,
            "overflow_y": null,
            "padding": null,
            "right": null,
            "top": null,
            "visibility": null,
            "width": null
          }
        },
        "318b2af6d66345a5ae072fca66b75f7d": {
          "model_module": "@jupyter-widgets/base",
          "model_module_version": "1.2.0",
          "model_name": "LayoutModel",
          "state": {
            "_model_module": "@jupyter-widgets/base",
            "_model_module_version": "1.2.0",
            "_model_name": "LayoutModel",
            "_view_count": null,
            "_view_module": "@jupyter-widgets/base",
            "_view_module_version": "1.2.0",
            "_view_name": "LayoutView",
            "align_content": null,
            "align_items": null,
            "align_self": null,
            "border": null,
            "bottom": null,
            "display": null,
            "flex": null,
            "flex_flow": null,
            "grid_area": null,
            "grid_auto_columns": null,
            "grid_auto_flow": null,
            "grid_auto_rows": null,
            "grid_column": null,
            "grid_gap": null,
            "grid_row": null,
            "grid_template_areas": null,
            "grid_template_columns": null,
            "grid_template_rows": null,
            "height": null,
            "justify_content": null,
            "justify_items": null,
            "left": null,
            "margin": null,
            "max_height": null,
            "max_width": null,
            "min_height": null,
            "min_width": null,
            "object_fit": null,
            "object_position": null,
            "order": null,
            "overflow": null,
            "overflow_x": null,
            "overflow_y": null,
            "padding": null,
            "right": null,
            "top": null,
            "visibility": null,
            "width": null
          }
        },
        "32b2057d53e649ba8709317dee4be278": {
          "model_module": "@jupyter-widgets/controls",
          "model_module_version": "1.5.0",
          "model_name": "HTMLModel",
          "state": {
            "_dom_classes": [],
            "_model_module": "@jupyter-widgets/controls",
            "_model_module_version": "1.5.0",
            "_model_name": "HTMLModel",
            "_view_count": null,
            "_view_module": "@jupyter-widgets/controls",
            "_view_module_version": "1.5.0",
            "_view_name": "HTMLView",
            "description": "",
            "description_tooltip": null,
            "layout": "IPY_MODEL_ad71c975b20c46379fecde9f88f3aad5",
            "placeholder": "​",
            "style": "IPY_MODEL_63e7faa102b44de0ab96057dcc727a1c",
            "value": " 50%"
          }
        },
        "34a64d6fb9e5410ebe5bb4dc4ea1ef1e": {
          "model_module": "@jupyter-widgets/controls",
          "model_module_version": "1.5.0",
          "model_name": "DescriptionStyleModel",
          "state": {
            "_model_module": "@jupyter-widgets/controls",
            "_model_module_version": "1.5.0",
            "_model_name": "DescriptionStyleModel",
            "_view_count": null,
            "_view_module": "@jupyter-widgets/base",
            "_view_module_version": "1.2.0",
            "_view_name": "StyleView",
            "description_width": ""
          }
        },
        "3826c2ed56f24f709bbb58b17ad55209": {
          "model_module": "@jupyter-widgets/base",
          "model_module_version": "1.2.0",
          "model_name": "LayoutModel",
          "state": {
            "_model_module": "@jupyter-widgets/base",
            "_model_module_version": "1.2.0",
            "_model_name": "LayoutModel",
            "_view_count": null,
            "_view_module": "@jupyter-widgets/base",
            "_view_module_version": "1.2.0",
            "_view_name": "LayoutView",
            "align_content": null,
            "align_items": null,
            "align_self": null,
            "border": null,
            "bottom": null,
            "display": null,
            "flex": null,
            "flex_flow": null,
            "grid_area": null,
            "grid_auto_columns": null,
            "grid_auto_flow": null,
            "grid_auto_rows": null,
            "grid_column": null,
            "grid_gap": null,
            "grid_row": null,
            "grid_template_areas": null,
            "grid_template_columns": null,
            "grid_template_rows": null,
            "height": null,
            "justify_content": null,
            "justify_items": null,
            "left": null,
            "margin": null,
            "max_height": null,
            "max_width": null,
            "min_height": null,
            "min_width": null,
            "object_fit": null,
            "object_position": null,
            "order": null,
            "overflow": null,
            "overflow_x": null,
            "overflow_y": null,
            "padding": null,
            "right": null,
            "top": null,
            "visibility": null,
            "width": null
          }
        },
        "3aa280a27a6045d88cb0e9fb9105d0c1": {
          "model_module": "@jupyter-widgets/base",
          "model_module_version": "1.2.0",
          "model_name": "LayoutModel",
          "state": {
            "_model_module": "@jupyter-widgets/base",
            "_model_module_version": "1.2.0",
            "_model_name": "LayoutModel",
            "_view_count": null,
            "_view_module": "@jupyter-widgets/base",
            "_view_module_version": "1.2.0",
            "_view_name": "LayoutView",
            "align_content": null,
            "align_items": null,
            "align_self": null,
            "border": null,
            "bottom": null,
            "display": null,
            "flex": null,
            "flex_flow": null,
            "grid_area": null,
            "grid_auto_columns": null,
            "grid_auto_flow": null,
            "grid_auto_rows": null,
            "grid_column": null,
            "grid_gap": null,
            "grid_row": null,
            "grid_template_areas": null,
            "grid_template_columns": null,
            "grid_template_rows": null,
            "height": null,
            "justify_content": null,
            "justify_items": null,
            "left": null,
            "margin": null,
            "max_height": null,
            "max_width": null,
            "min_height": null,
            "min_width": null,
            "object_fit": null,
            "object_position": null,
            "order": null,
            "overflow": null,
            "overflow_x": null,
            "overflow_y": null,
            "padding": null,
            "right": null,
            "top": null,
            "visibility": null,
            "width": null
          }
        },
        "3b0264a81f914fdea9fa0c0736be3e8a": {
          "model_module": "@jupyter-widgets/base",
          "model_module_version": "1.2.0",
          "model_name": "LayoutModel",
          "state": {
            "_model_module": "@jupyter-widgets/base",
            "_model_module_version": "1.2.0",
            "_model_name": "LayoutModel",
            "_view_count": null,
            "_view_module": "@jupyter-widgets/base",
            "_view_module_version": "1.2.0",
            "_view_name": "LayoutView",
            "align_content": null,
            "align_items": null,
            "align_self": null,
            "border": null,
            "bottom": null,
            "display": null,
            "flex": null,
            "flex_flow": null,
            "grid_area": null,
            "grid_auto_columns": null,
            "grid_auto_flow": null,
            "grid_auto_rows": null,
            "grid_column": null,
            "grid_gap": null,
            "grid_row": null,
            "grid_template_areas": null,
            "grid_template_columns": null,
            "grid_template_rows": null,
            "height": null,
            "justify_content": null,
            "justify_items": null,
            "left": null,
            "margin": null,
            "max_height": null,
            "max_width": null,
            "min_height": null,
            "min_width": null,
            "object_fit": null,
            "object_position": null,
            "order": null,
            "overflow": null,
            "overflow_x": null,
            "overflow_y": null,
            "padding": null,
            "right": null,
            "top": null,
            "visibility": null,
            "width": null
          }
        },
        "3b082f401cae472ca5511e3143958bae": {
          "model_module": "@jupyter-widgets/base",
          "model_module_version": "1.2.0",
          "model_name": "LayoutModel",
          "state": {
            "_model_module": "@jupyter-widgets/base",
            "_model_module_version": "1.2.0",
            "_model_name": "LayoutModel",
            "_view_count": null,
            "_view_module": "@jupyter-widgets/base",
            "_view_module_version": "1.2.0",
            "_view_name": "LayoutView",
            "align_content": null,
            "align_items": null,
            "align_self": null,
            "border": null,
            "bottom": null,
            "display": null,
            "flex": null,
            "flex_flow": null,
            "grid_area": null,
            "grid_auto_columns": null,
            "grid_auto_flow": null,
            "grid_auto_rows": null,
            "grid_column": null,
            "grid_gap": null,
            "grid_row": null,
            "grid_template_areas": null,
            "grid_template_columns": null,
            "grid_template_rows": null,
            "height": null,
            "justify_content": null,
            "justify_items": null,
            "left": null,
            "margin": null,
            "max_height": null,
            "max_width": null,
            "min_height": null,
            "min_width": null,
            "object_fit": null,
            "object_position": null,
            "order": null,
            "overflow": null,
            "overflow_x": null,
            "overflow_y": null,
            "padding": null,
            "right": null,
            "top": null,
            "visibility": "hidden",
            "width": null
          }
        },
        "3b262b51a87a453791aa07690715bab5": {
          "model_module": "@jupyter-widgets/controls",
          "model_module_version": "1.5.0",
          "model_name": "DescriptionStyleModel",
          "state": {
            "_model_module": "@jupyter-widgets/controls",
            "_model_module_version": "1.5.0",
            "_model_name": "DescriptionStyleModel",
            "_view_count": null,
            "_view_module": "@jupyter-widgets/base",
            "_view_module_version": "1.2.0",
            "_view_name": "StyleView",
            "description_width": ""
          }
        },
        "3c846c4512ae46dc912ad7596b88bc8d": {
          "model_module": "@jupyter-widgets/controls",
          "model_module_version": "1.5.0",
          "model_name": "HTMLModel",
          "state": {
            "_dom_classes": [],
            "_model_module": "@jupyter-widgets/controls",
            "_model_module_version": "1.5.0",
            "_model_name": "HTMLModel",
            "_view_count": null,
            "_view_module": "@jupyter-widgets/controls",
            "_view_module_version": "1.5.0",
            "_view_name": "HTMLView",
            "description": "",
            "description_tooltip": null,
            "layout": "IPY_MODEL_318b2af6d66345a5ae072fca66b75f7d",
            "placeholder": "​",
            "style": "IPY_MODEL_5aee2f8d87914cf095ff0ca93c264416",
            "value": " 50%"
          }
        },
        "3cad4d662911449ba193fe216b7d5d07": {
          "model_module": "@jupyter-widgets/base",
          "model_module_version": "1.2.0",
          "model_name": "LayoutModel",
          "state": {
            "_model_module": "@jupyter-widgets/base",
            "_model_module_version": "1.2.0",
            "_model_name": "LayoutModel",
            "_view_count": null,
            "_view_module": "@jupyter-widgets/base",
            "_view_module_version": "1.2.0",
            "_view_name": "LayoutView",
            "align_content": null,
            "align_items": null,
            "align_self": null,
            "border": null,
            "bottom": null,
            "display": null,
            "flex": null,
            "flex_flow": null,
            "grid_area": null,
            "grid_auto_columns": null,
            "grid_auto_flow": null,
            "grid_auto_rows": null,
            "grid_column": null,
            "grid_gap": null,
            "grid_row": null,
            "grid_template_areas": null,
            "grid_template_columns": null,
            "grid_template_rows": null,
            "height": null,
            "justify_content": null,
            "justify_items": null,
            "left": null,
            "margin": null,
            "max_height": null,
            "max_width": null,
            "min_height": null,
            "min_width": null,
            "object_fit": null,
            "object_position": null,
            "order": null,
            "overflow": null,
            "overflow_x": null,
            "overflow_y": null,
            "padding": null,
            "right": null,
            "top": null,
            "visibility": null,
            "width": null
          }
        },
        "3e520d56a31b4e14b388df60a436f04d": {
          "model_module": "@jupyter-widgets/controls",
          "model_module_version": "1.5.0",
          "model_name": "HBoxModel",
          "state": {
            "_dom_classes": [],
            "_model_module": "@jupyter-widgets/controls",
            "_model_module_version": "1.5.0",
            "_model_name": "HBoxModel",
            "_view_count": null,
            "_view_module": "@jupyter-widgets/controls",
            "_view_module_version": "1.5.0",
            "_view_name": "HBoxView",
            "box_style": "",
            "children": [
              "IPY_MODEL_ef33eff124944841af387bd6dc0db218",
              "IPY_MODEL_4b20ceb12b704c09b9fef01a37ff5d12",
              "IPY_MODEL_ed0a4450661e4ba3b0217edeeb29b816"
            ],
            "layout": "IPY_MODEL_4314ba0936c14d65b1b1c06b1d1de4e8"
          }
        },
        "40b007809ffc4c3793ed32f774f446c2": {
          "model_module": "@jupyter-widgets/base",
          "model_module_version": "1.2.0",
          "model_name": "LayoutModel",
          "state": {
            "_model_module": "@jupyter-widgets/base",
            "_model_module_version": "1.2.0",
            "_model_name": "LayoutModel",
            "_view_count": null,
            "_view_module": "@jupyter-widgets/base",
            "_view_module_version": "1.2.0",
            "_view_name": "LayoutView",
            "align_content": null,
            "align_items": null,
            "align_self": null,
            "border": null,
            "bottom": null,
            "display": null,
            "flex": null,
            "flex_flow": null,
            "grid_area": null,
            "grid_auto_columns": null,
            "grid_auto_flow": null,
            "grid_auto_rows": null,
            "grid_column": null,
            "grid_gap": null,
            "grid_row": null,
            "grid_template_areas": null,
            "grid_template_columns": null,
            "grid_template_rows": null,
            "height": null,
            "justify_content": null,
            "justify_items": null,
            "left": null,
            "margin": null,
            "max_height": null,
            "max_width": null,
            "min_height": null,
            "min_width": null,
            "object_fit": null,
            "object_position": null,
            "order": null,
            "overflow": null,
            "overflow_x": null,
            "overflow_y": null,
            "padding": null,
            "right": null,
            "top": null,
            "visibility": null,
            "width": null
          }
        },
        "4314ba0936c14d65b1b1c06b1d1de4e8": {
          "model_module": "@jupyter-widgets/base",
          "model_module_version": "1.2.0",
          "model_name": "LayoutModel",
          "state": {
            "_model_module": "@jupyter-widgets/base",
            "_model_module_version": "1.2.0",
            "_model_name": "LayoutModel",
            "_view_count": null,
            "_view_module": "@jupyter-widgets/base",
            "_view_module_version": "1.2.0",
            "_view_name": "LayoutView",
            "align_content": null,
            "align_items": null,
            "align_self": null,
            "border": null,
            "bottom": null,
            "display": null,
            "flex": null,
            "flex_flow": null,
            "grid_area": null,
            "grid_auto_columns": null,
            "grid_auto_flow": null,
            "grid_auto_rows": null,
            "grid_column": null,
            "grid_gap": null,
            "grid_row": null,
            "grid_template_areas": null,
            "grid_template_columns": null,
            "grid_template_rows": null,
            "height": null,
            "justify_content": null,
            "justify_items": null,
            "left": null,
            "margin": null,
            "max_height": null,
            "max_width": null,
            "min_height": null,
            "min_width": null,
            "object_fit": null,
            "object_position": null,
            "order": null,
            "overflow": null,
            "overflow_x": null,
            "overflow_y": null,
            "padding": null,
            "right": null,
            "top": null,
            "visibility": null,
            "width": null
          }
        },
        "46ec62f2b3114999a19124c3265173cd": {
          "model_module": "@jupyter-widgets/controls",
          "model_module_version": "1.5.0",
          "model_name": "HTMLModel",
          "state": {
            "_dom_classes": [],
            "_model_module": "@jupyter-widgets/controls",
            "_model_module_version": "1.5.0",
            "_model_name": "HTMLModel",
            "_view_count": null,
            "_view_module": "@jupyter-widgets/controls",
            "_view_module_version": "1.5.0",
            "_view_name": "HTMLView",
            "description": "",
            "description_tooltip": null,
            "layout": "IPY_MODEL_ff12835a588f49838eee15b68408cb26",
            "placeholder": "​",
            "style": "IPY_MODEL_6dd6457f9e08482c81df545c33f98eca",
            "value": " 1/2 [00:00&lt;00:00,  9.32it/s]"
          }
        },
        "4b20ceb12b704c09b9fef01a37ff5d12": {
          "model_module": "@jupyter-widgets/controls",
          "model_module_version": "1.5.0",
          "model_name": "FloatProgressModel",
          "state": {
            "_dom_classes": [],
            "_model_module": "@jupyter-widgets/controls",
            "_model_module_version": "1.5.0",
            "_model_name": "FloatProgressModel",
            "_view_count": null,
            "_view_module": "@jupyter-widgets/controls",
            "_view_module_version": "1.5.0",
            "_view_name": "ProgressView",
            "bar_style": "success",
            "description": "",
            "description_tooltip": null,
            "layout": "IPY_MODEL_be5e678c4d0444499c7724536d8440dc",
            "max": 5,
            "min": 0,
            "orientation": "horizontal",
            "style": "IPY_MODEL_24f200d466b445bc8f65cdbdf706eecd",
            "value": 5
          }
        },
        "4d8a4c693f4448aeae4ea71e0923957d": {
          "model_module": "@jupyter-widgets/controls",
          "model_module_version": "1.5.0",
          "model_name": "ProgressStyleModel",
          "state": {
            "_model_module": "@jupyter-widgets/controls",
            "_model_module_version": "1.5.0",
            "_model_name": "ProgressStyleModel",
            "_view_count": null,
            "_view_module": "@jupyter-widgets/base",
            "_view_module_version": "1.2.0",
            "_view_name": "StyleView",
            "bar_color": null,
            "description_width": ""
          }
        },
        "4e81d5934d604e7194035b5ac845c6c7": {
          "model_module": "@jupyter-widgets/controls",
          "model_module_version": "1.5.0",
          "model_name": "FloatProgressModel",
          "state": {
            "_dom_classes": [],
            "_model_module": "@jupyter-widgets/controls",
            "_model_module_version": "1.5.0",
            "_model_name": "FloatProgressModel",
            "_view_count": null,
            "_view_module": "@jupyter-widgets/controls",
            "_view_module_version": "1.5.0",
            "_view_name": "ProgressView",
            "bar_style": "",
            "description": "",
            "description_tooltip": null,
            "layout": "IPY_MODEL_b63817b8a5e043ceb490d8c355b4744a",
            "max": 2,
            "min": 0,
            "orientation": "horizontal",
            "style": "IPY_MODEL_689c5ce1860045e5be54caa287fbbc77",
            "value": 2
          }
        },
        "54ea7b834c514c358573f295ccd59182": {
          "model_module": "@jupyter-widgets/controls",
          "model_module_version": "1.5.0",
          "model_name": "HBoxModel",
          "state": {
            "_dom_classes": [],
            "_model_module": "@jupyter-widgets/controls",
            "_model_module_version": "1.5.0",
            "_model_name": "HBoxModel",
            "_view_count": null,
            "_view_module": "@jupyter-widgets/controls",
            "_view_module_version": "1.5.0",
            "_view_name": "HBoxView",
            "box_style": "",
            "children": [
              "IPY_MODEL_2046856f9bd54fd9a0eb1d2ea7803b98",
              "IPY_MODEL_b2b797114b9a43f3b13322b08af308ba",
              "IPY_MODEL_5555687e25ad4bd4a347b96c313b9675"
            ],
            "layout": "IPY_MODEL_60827d864cf94c1b840014eb12be204c"
          }
        },
        "5555687e25ad4bd4a347b96c313b9675": {
          "model_module": "@jupyter-widgets/controls",
          "model_module_version": "1.5.0",
          "model_name": "HTMLModel",
          "state": {
            "_dom_classes": [],
            "_model_module": "@jupyter-widgets/controls",
            "_model_module_version": "1.5.0",
            "_model_name": "HTMLModel",
            "_view_count": null,
            "_view_module": "@jupyter-widgets/controls",
            "_view_module_version": "1.5.0",
            "_view_name": "HTMLView",
            "description": "",
            "description_tooltip": null,
            "layout": "IPY_MODEL_8bcbecb4858d4a4f88e029d245f1bf84",
            "placeholder": "​",
            "style": "IPY_MODEL_1af06cbcb3cc4f4d923fc2a55612b80a",
            "value": " 5/5 [00:02&lt;00:00,  2.24it/s]"
          }
        },
        "57e7353bb75f42de8c8653221eada991": {
          "model_module": "@jupyter-widgets/controls",
          "model_module_version": "1.5.0",
          "model_name": "DescriptionStyleModel",
          "state": {
            "_model_module": "@jupyter-widgets/controls",
            "_model_module_version": "1.5.0",
            "_model_name": "DescriptionStyleModel",
            "_view_count": null,
            "_view_module": "@jupyter-widgets/base",
            "_view_module_version": "1.2.0",
            "_view_name": "StyleView",
            "description_width": ""
          }
        },
        "5842d18c74c3408ab842964ee7a383f0": {
          "model_module": "@jupyter-widgets/base",
          "model_module_version": "1.2.0",
          "model_name": "LayoutModel",
          "state": {
            "_model_module": "@jupyter-widgets/base",
            "_model_module_version": "1.2.0",
            "_model_name": "LayoutModel",
            "_view_count": null,
            "_view_module": "@jupyter-widgets/base",
            "_view_module_version": "1.2.0",
            "_view_name": "LayoutView",
            "align_content": null,
            "align_items": null,
            "align_self": null,
            "border": null,
            "bottom": null,
            "display": null,
            "flex": null,
            "flex_flow": null,
            "grid_area": null,
            "grid_auto_columns": null,
            "grid_auto_flow": null,
            "grid_auto_rows": null,
            "grid_column": null,
            "grid_gap": null,
            "grid_row": null,
            "grid_template_areas": null,
            "grid_template_columns": null,
            "grid_template_rows": null,
            "height": null,
            "justify_content": null,
            "justify_items": null,
            "left": null,
            "margin": null,
            "max_height": null,
            "max_width": null,
            "min_height": null,
            "min_width": null,
            "object_fit": null,
            "object_position": null,
            "order": null,
            "overflow": null,
            "overflow_x": null,
            "overflow_y": null,
            "padding": null,
            "right": null,
            "top": null,
            "visibility": null,
            "width": null
          }
        },
        "5aee2f8d87914cf095ff0ca93c264416": {
          "model_module": "@jupyter-widgets/controls",
          "model_module_version": "1.5.0",
          "model_name": "DescriptionStyleModel",
          "state": {
            "_model_module": "@jupyter-widgets/controls",
            "_model_module_version": "1.5.0",
            "_model_name": "DescriptionStyleModel",
            "_view_count": null,
            "_view_module": "@jupyter-widgets/base",
            "_view_module_version": "1.2.0",
            "_view_name": "StyleView",
            "description_width": ""
          }
        },
        "60827d864cf94c1b840014eb12be204c": {
          "model_module": "@jupyter-widgets/base",
          "model_module_version": "1.2.0",
          "model_name": "LayoutModel",
          "state": {
            "_model_module": "@jupyter-widgets/base",
            "_model_module_version": "1.2.0",
            "_model_name": "LayoutModel",
            "_view_count": null,
            "_view_module": "@jupyter-widgets/base",
            "_view_module_version": "1.2.0",
            "_view_name": "LayoutView",
            "align_content": null,
            "align_items": null,
            "align_self": null,
            "border": null,
            "bottom": null,
            "display": null,
            "flex": null,
            "flex_flow": null,
            "grid_area": null,
            "grid_auto_columns": null,
            "grid_auto_flow": null,
            "grid_auto_rows": null,
            "grid_column": null,
            "grid_gap": null,
            "grid_row": null,
            "grid_template_areas": null,
            "grid_template_columns": null,
            "grid_template_rows": null,
            "height": null,
            "justify_content": null,
            "justify_items": null,
            "left": null,
            "margin": null,
            "max_height": null,
            "max_width": null,
            "min_height": null,
            "min_width": null,
            "object_fit": null,
            "object_position": null,
            "order": null,
            "overflow": null,
            "overflow_x": null,
            "overflow_y": null,
            "padding": null,
            "right": null,
            "top": null,
            "visibility": null,
            "width": null
          }
        },
        "6097b9b58fcf4149bf3fdb55e5edc49a": {
          "model_module": "@jupyter-widgets/controls",
          "model_module_version": "1.5.0",
          "model_name": "HTMLModel",
          "state": {
            "_dom_classes": [],
            "_model_module": "@jupyter-widgets/controls",
            "_model_module_version": "1.5.0",
            "_model_name": "HTMLModel",
            "_view_count": null,
            "_view_module": "@jupyter-widgets/controls",
            "_view_module_version": "1.5.0",
            "_view_name": "HTMLView",
            "description": "",
            "description_tooltip": null,
            "layout": "IPY_MODEL_40b007809ffc4c3793ed32f774f446c2",
            "placeholder": "​",
            "style": "IPY_MODEL_712fc6b661c44f4980bb8d8c3a412d03",
            "value": " 5/5 [00:02&lt;00:00,  2.16it/s]"
          }
        },
        "613c43322f324743abf5c88f6bbca2d8": {
          "model_module": "@jupyter-widgets/controls",
          "model_module_version": "1.5.0",
          "model_name": "HTMLModel",
          "state": {
            "_dom_classes": [],
            "_model_module": "@jupyter-widgets/controls",
            "_model_module_version": "1.5.0",
            "_model_name": "HTMLModel",
            "_view_count": null,
            "_view_module": "@jupyter-widgets/controls",
            "_view_module_version": "1.5.0",
            "_view_name": "HTMLView",
            "description": "",
            "description_tooltip": null,
            "layout": "IPY_MODEL_e55376616833480a9b720e97d64fb2a6",
            "placeholder": "​",
            "style": "IPY_MODEL_bf92bf938cb24e71abf01cb3cf9b4ce9",
            "value": " 9/10 [00:00&lt;00:00, 13.97it/s]"
          }
        },
        "61ad2a71e97c4ee0aa7872674bc04479": {
          "model_module": "@jupyter-widgets/base",
          "model_module_version": "1.2.0",
          "model_name": "LayoutModel",
          "state": {
            "_model_module": "@jupyter-widgets/base",
            "_model_module_version": "1.2.0",
            "_model_name": "LayoutModel",
            "_view_count": null,
            "_view_module": "@jupyter-widgets/base",
            "_view_module_version": "1.2.0",
            "_view_name": "LayoutView",
            "align_content": null,
            "align_items": null,
            "align_self": null,
            "border": null,
            "bottom": null,
            "display": null,
            "flex": null,
            "flex_flow": null,
            "grid_area": null,
            "grid_auto_columns": null,
            "grid_auto_flow": null,
            "grid_auto_rows": null,
            "grid_column": null,
            "grid_gap": null,
            "grid_row": null,
            "grid_template_areas": null,
            "grid_template_columns": null,
            "grid_template_rows": null,
            "height": null,
            "justify_content": null,
            "justify_items": null,
            "left": null,
            "margin": null,
            "max_height": null,
            "max_width": null,
            "min_height": null,
            "min_width": null,
            "object_fit": null,
            "object_position": null,
            "order": null,
            "overflow": null,
            "overflow_x": null,
            "overflow_y": null,
            "padding": null,
            "right": null,
            "top": null,
            "visibility": null,
            "width": null
          }
        },
        "63e7faa102b44de0ab96057dcc727a1c": {
          "model_module": "@jupyter-widgets/controls",
          "model_module_version": "1.5.0",
          "model_name": "DescriptionStyleModel",
          "state": {
            "_model_module": "@jupyter-widgets/controls",
            "_model_module_version": "1.5.0",
            "_model_name": "DescriptionStyleModel",
            "_view_count": null,
            "_view_module": "@jupyter-widgets/base",
            "_view_module_version": "1.2.0",
            "_view_name": "StyleView",
            "description_width": ""
          }
        },
        "64ed346dbb86442fa7a7862e7a7555d7": {
          "model_module": "@jupyter-widgets/controls",
          "model_module_version": "1.5.0",
          "model_name": "ProgressStyleModel",
          "state": {
            "_model_module": "@jupyter-widgets/controls",
            "_model_module_version": "1.5.0",
            "_model_name": "ProgressStyleModel",
            "_view_count": null,
            "_view_module": "@jupyter-widgets/base",
            "_view_module_version": "1.2.0",
            "_view_name": "StyleView",
            "bar_color": null,
            "description_width": ""
          }
        },
        "689c5ce1860045e5be54caa287fbbc77": {
          "model_module": "@jupyter-widgets/controls",
          "model_module_version": "1.5.0",
          "model_name": "ProgressStyleModel",
          "state": {
            "_model_module": "@jupyter-widgets/controls",
            "_model_module_version": "1.5.0",
            "_model_name": "ProgressStyleModel",
            "_view_count": null,
            "_view_module": "@jupyter-widgets/base",
            "_view_module_version": "1.2.0",
            "_view_name": "StyleView",
            "bar_color": null,
            "description_width": ""
          }
        },
        "6b38fd18fde145fa8e6a74fc95f42159": {
          "model_module": "@jupyter-widgets/controls",
          "model_module_version": "1.5.0",
          "model_name": "HTMLModel",
          "state": {
            "_dom_classes": [],
            "_model_module": "@jupyter-widgets/controls",
            "_model_module_version": "1.5.0",
            "_model_name": "HTMLModel",
            "_view_count": null,
            "_view_module": "@jupyter-widgets/controls",
            "_view_module_version": "1.5.0",
            "_view_name": "HTMLView",
            "description": "",
            "description_tooltip": null,
            "layout": "IPY_MODEL_c839ea5d3d3645ada84321cdbcef221f",
            "placeholder": "​",
            "style": "IPY_MODEL_fff0ed064be54d98adb7df509e5cdded",
            "value": " 5/5 [00:02&lt;00:00,  2.41it/s]"
          }
        },
        "6dd6457f9e08482c81df545c33f98eca": {
          "model_module": "@jupyter-widgets/controls",
          "model_module_version": "1.5.0",
          "model_name": "DescriptionStyleModel",
          "state": {
            "_model_module": "@jupyter-widgets/controls",
            "_model_module_version": "1.5.0",
            "_model_name": "DescriptionStyleModel",
            "_view_count": null,
            "_view_module": "@jupyter-widgets/base",
            "_view_module_version": "1.2.0",
            "_view_name": "StyleView",
            "description_width": ""
          }
        },
        "712fc6b661c44f4980bb8d8c3a412d03": {
          "model_module": "@jupyter-widgets/controls",
          "model_module_version": "1.5.0",
          "model_name": "DescriptionStyleModel",
          "state": {
            "_model_module": "@jupyter-widgets/controls",
            "_model_module_version": "1.5.0",
            "_model_name": "DescriptionStyleModel",
            "_view_count": null,
            "_view_module": "@jupyter-widgets/base",
            "_view_module_version": "1.2.0",
            "_view_name": "StyleView",
            "description_width": ""
          }
        },
        "7c79f4b9193c452d820a5583da81b002": {
          "model_module": "@jupyter-widgets/base",
          "model_module_version": "1.2.0",
          "model_name": "LayoutModel",
          "state": {
            "_model_module": "@jupyter-widgets/base",
            "_model_module_version": "1.2.0",
            "_model_name": "LayoutModel",
            "_view_count": null,
            "_view_module": "@jupyter-widgets/base",
            "_view_module_version": "1.2.0",
            "_view_name": "LayoutView",
            "align_content": null,
            "align_items": null,
            "align_self": null,
            "border": null,
            "bottom": null,
            "display": null,
            "flex": null,
            "flex_flow": null,
            "grid_area": null,
            "grid_auto_columns": null,
            "grid_auto_flow": null,
            "grid_auto_rows": null,
            "grid_column": null,
            "grid_gap": null,
            "grid_row": null,
            "grid_template_areas": null,
            "grid_template_columns": null,
            "grid_template_rows": null,
            "height": null,
            "justify_content": null,
            "justify_items": null,
            "left": null,
            "margin": null,
            "max_height": null,
            "max_width": null,
            "min_height": null,
            "min_width": null,
            "object_fit": null,
            "object_position": null,
            "order": null,
            "overflow": null,
            "overflow_x": null,
            "overflow_y": null,
            "padding": null,
            "right": null,
            "top": null,
            "visibility": null,
            "width": null
          }
        },
        "7d606b4dc4314495a8e585762b9541f9": {
          "model_module": "@jupyter-widgets/base",
          "model_module_version": "1.2.0",
          "model_name": "LayoutModel",
          "state": {
            "_model_module": "@jupyter-widgets/base",
            "_model_module_version": "1.2.0",
            "_model_name": "LayoutModel",
            "_view_count": null,
            "_view_module": "@jupyter-widgets/base",
            "_view_module_version": "1.2.0",
            "_view_name": "LayoutView",
            "align_content": null,
            "align_items": null,
            "align_self": null,
            "border": null,
            "bottom": null,
            "display": null,
            "flex": null,
            "flex_flow": null,
            "grid_area": null,
            "grid_auto_columns": null,
            "grid_auto_flow": null,
            "grid_auto_rows": null,
            "grid_column": null,
            "grid_gap": null,
            "grid_row": null,
            "grid_template_areas": null,
            "grid_template_columns": null,
            "grid_template_rows": null,
            "height": null,
            "justify_content": null,
            "justify_items": null,
            "left": null,
            "margin": null,
            "max_height": null,
            "max_width": null,
            "min_height": null,
            "min_width": null,
            "object_fit": null,
            "object_position": null,
            "order": null,
            "overflow": null,
            "overflow_x": null,
            "overflow_y": null,
            "padding": null,
            "right": null,
            "top": null,
            "visibility": null,
            "width": null
          }
        },
        "889376f11879416eb1bfb6f99a01f2b2": {
          "model_module": "@jupyter-widgets/controls",
          "model_module_version": "1.5.0",
          "model_name": "FloatProgressModel",
          "state": {
            "_dom_classes": [],
            "_model_module": "@jupyter-widgets/controls",
            "_model_module_version": "1.5.0",
            "_model_name": "FloatProgressModel",
            "_view_count": null,
            "_view_module": "@jupyter-widgets/controls",
            "_view_module_version": "1.5.0",
            "_view_name": "ProgressView",
            "bar_style": "",
            "description": "",
            "description_tooltip": null,
            "layout": "IPY_MODEL_8f7b8338c40c49e8ad2062e03837b37f",
            "max": 10,
            "min": 0,
            "orientation": "horizontal",
            "style": "IPY_MODEL_e49030c3ee664c7aa685d180be895563",
            "value": 10
          }
        },
        "8bcbecb4858d4a4f88e029d245f1bf84": {
          "model_module": "@jupyter-widgets/base",
          "model_module_version": "1.2.0",
          "model_name": "LayoutModel",
          "state": {
            "_model_module": "@jupyter-widgets/base",
            "_model_module_version": "1.2.0",
            "_model_name": "LayoutModel",
            "_view_count": null,
            "_view_module": "@jupyter-widgets/base",
            "_view_module_version": "1.2.0",
            "_view_name": "LayoutView",
            "align_content": null,
            "align_items": null,
            "align_self": null,
            "border": null,
            "bottom": null,
            "display": null,
            "flex": null,
            "flex_flow": null,
            "grid_area": null,
            "grid_auto_columns": null,
            "grid_auto_flow": null,
            "grid_auto_rows": null,
            "grid_column": null,
            "grid_gap": null,
            "grid_row": null,
            "grid_template_areas": null,
            "grid_template_columns": null,
            "grid_template_rows": null,
            "height": null,
            "justify_content": null,
            "justify_items": null,
            "left": null,
            "margin": null,
            "max_height": null,
            "max_width": null,
            "min_height": null,
            "min_width": null,
            "object_fit": null,
            "object_position": null,
            "order": null,
            "overflow": null,
            "overflow_x": null,
            "overflow_y": null,
            "padding": null,
            "right": null,
            "top": null,
            "visibility": null,
            "width": null
          }
        },
        "8df7cce50601485b96896b2d99e6571c": {
          "model_module": "@jupyter-widgets/controls",
          "model_module_version": "1.5.0",
          "model_name": "HTMLModel",
          "state": {
            "_dom_classes": [],
            "_model_module": "@jupyter-widgets/controls",
            "_model_module_version": "1.5.0",
            "_model_name": "HTMLModel",
            "_view_count": null,
            "_view_module": "@jupyter-widgets/controls",
            "_view_module_version": "1.5.0",
            "_view_name": "HTMLView",
            "description": "",
            "description_tooltip": null,
            "layout": "IPY_MODEL_2e9cb0206ae3447b9167b4e598f4be3e",
            "placeholder": "​",
            "style": "IPY_MODEL_dcb05027922e4d1fb7f64a036da5f18b",
            "value": "100%"
          }
        },
        "8f7b8338c40c49e8ad2062e03837b37f": {
          "model_module": "@jupyter-widgets/base",
          "model_module_version": "1.2.0",
          "model_name": "LayoutModel",
          "state": {
            "_model_module": "@jupyter-widgets/base",
            "_model_module_version": "1.2.0",
            "_model_name": "LayoutModel",
            "_view_count": null,
            "_view_module": "@jupyter-widgets/base",
            "_view_module_version": "1.2.0",
            "_view_name": "LayoutView",
            "align_content": null,
            "align_items": null,
            "align_self": null,
            "border": null,
            "bottom": null,
            "display": null,
            "flex": null,
            "flex_flow": null,
            "grid_area": null,
            "grid_auto_columns": null,
            "grid_auto_flow": null,
            "grid_auto_rows": null,
            "grid_column": null,
            "grid_gap": null,
            "grid_row": null,
            "grid_template_areas": null,
            "grid_template_columns": null,
            "grid_template_rows": null,
            "height": null,
            "justify_content": null,
            "justify_items": null,
            "left": null,
            "margin": null,
            "max_height": null,
            "max_width": null,
            "min_height": null,
            "min_width": null,
            "object_fit": null,
            "object_position": null,
            "order": null,
            "overflow": null,
            "overflow_x": null,
            "overflow_y": null,
            "padding": null,
            "right": null,
            "top": null,
            "visibility": null,
            "width": null
          }
        },
        "93229349785e4af293420ee088ec4137": {
          "model_module": "@jupyter-widgets/controls",
          "model_module_version": "1.5.0",
          "model_name": "HTMLModel",
          "state": {
            "_dom_classes": [],
            "_model_module": "@jupyter-widgets/controls",
            "_model_module_version": "1.5.0",
            "_model_name": "HTMLModel",
            "_view_count": null,
            "_view_module": "@jupyter-widgets/controls",
            "_view_module_version": "1.5.0",
            "_view_name": "HTMLView",
            "description": "",
            "description_tooltip": null,
            "layout": "IPY_MODEL_c9ceebc6b02b4c28b595961beb9f4887",
            "placeholder": "​",
            "style": "IPY_MODEL_a12b11bd583e4d16b4ff19ac1d5993d3",
            "value": "100%"
          }
        },
        "99e60ab8bb924e1fa351ed33444aeffa": {
          "model_module": "@jupyter-widgets/base",
          "model_module_version": "1.2.0",
          "model_name": "LayoutModel",
          "state": {
            "_model_module": "@jupyter-widgets/base",
            "_model_module_version": "1.2.0",
            "_model_name": "LayoutModel",
            "_view_count": null,
            "_view_module": "@jupyter-widgets/base",
            "_view_module_version": "1.2.0",
            "_view_name": "LayoutView",
            "align_content": null,
            "align_items": null,
            "align_self": null,
            "border": null,
            "bottom": null,
            "display": null,
            "flex": null,
            "flex_flow": null,
            "grid_area": null,
            "grid_auto_columns": null,
            "grid_auto_flow": null,
            "grid_auto_rows": null,
            "grid_column": null,
            "grid_gap": null,
            "grid_row": null,
            "grid_template_areas": null,
            "grid_template_columns": null,
            "grid_template_rows": null,
            "height": null,
            "justify_content": null,
            "justify_items": null,
            "left": null,
            "margin": null,
            "max_height": null,
            "max_width": null,
            "min_height": null,
            "min_width": null,
            "object_fit": null,
            "object_position": null,
            "order": null,
            "overflow": null,
            "overflow_x": null,
            "overflow_y": null,
            "padding": null,
            "right": null,
            "top": null,
            "visibility": null,
            "width": null
          }
        },
        "a0e46012b0b84f0389465554b10f40d7": {
          "model_module": "@jupyter-widgets/base",
          "model_module_version": "1.2.0",
          "model_name": "LayoutModel",
          "state": {
            "_model_module": "@jupyter-widgets/base",
            "_model_module_version": "1.2.0",
            "_model_name": "LayoutModel",
            "_view_count": null,
            "_view_module": "@jupyter-widgets/base",
            "_view_module_version": "1.2.0",
            "_view_name": "LayoutView",
            "align_content": null,
            "align_items": null,
            "align_self": null,
            "border": null,
            "bottom": null,
            "display": null,
            "flex": null,
            "flex_flow": null,
            "grid_area": null,
            "grid_auto_columns": null,
            "grid_auto_flow": null,
            "grid_auto_rows": null,
            "grid_column": null,
            "grid_gap": null,
            "grid_row": null,
            "grid_template_areas": null,
            "grid_template_columns": null,
            "grid_template_rows": null,
            "height": null,
            "justify_content": null,
            "justify_items": null,
            "left": null,
            "margin": null,
            "max_height": null,
            "max_width": null,
            "min_height": null,
            "min_width": null,
            "object_fit": null,
            "object_position": null,
            "order": null,
            "overflow": null,
            "overflow_x": null,
            "overflow_y": null,
            "padding": null,
            "right": null,
            "top": null,
            "visibility": null,
            "width": null
          }
        },
        "a12b11bd583e4d16b4ff19ac1d5993d3": {
          "model_module": "@jupyter-widgets/controls",
          "model_module_version": "1.5.0",
          "model_name": "DescriptionStyleModel",
          "state": {
            "_model_module": "@jupyter-widgets/controls",
            "_model_module_version": "1.5.0",
            "_model_name": "DescriptionStyleModel",
            "_view_count": null,
            "_view_module": "@jupyter-widgets/base",
            "_view_module_version": "1.2.0",
            "_view_name": "StyleView",
            "description_width": ""
          }
        },
        "a5bc2054f20446fdab8a55c8a83f9e27": {
          "model_module": "@jupyter-widgets/controls",
          "model_module_version": "1.5.0",
          "model_name": "DescriptionStyleModel",
          "state": {
            "_model_module": "@jupyter-widgets/controls",
            "_model_module_version": "1.5.0",
            "_model_name": "DescriptionStyleModel",
            "_view_count": null,
            "_view_module": "@jupyter-widgets/base",
            "_view_module_version": "1.2.0",
            "_view_name": "StyleView",
            "description_width": ""
          }
        },
        "a929d4f0bec1423386cb9b424a05289b": {
          "model_module": "@jupyter-widgets/controls",
          "model_module_version": "1.5.0",
          "model_name": "HBoxModel",
          "state": {
            "_dom_classes": [],
            "_model_module": "@jupyter-widgets/controls",
            "_model_module_version": "1.5.0",
            "_model_name": "HBoxModel",
            "_view_count": null,
            "_view_module": "@jupyter-widgets/controls",
            "_view_module_version": "1.5.0",
            "_view_name": "HBoxView",
            "box_style": "",
            "children": [
              "IPY_MODEL_8df7cce50601485b96896b2d99e6571c",
              "IPY_MODEL_23b8489caf9f4e639ff24bae1c2f59a8",
              "IPY_MODEL_6b38fd18fde145fa8e6a74fc95f42159"
            ],
            "layout": "IPY_MODEL_f404d2d8dab240e1856f4ee0f4f148ca"
          }
        },
        "ab176a074883435988422a421a52b67b": {
          "model_module": "@jupyter-widgets/controls",
          "model_module_version": "1.5.0",
          "model_name": "DescriptionStyleModel",
          "state": {
            "_model_module": "@jupyter-widgets/controls",
            "_model_module_version": "1.5.0",
            "_model_name": "DescriptionStyleModel",
            "_view_count": null,
            "_view_module": "@jupyter-widgets/base",
            "_view_module_version": "1.2.0",
            "_view_name": "StyleView",
            "description_width": ""
          }
        },
        "aca81f6a50944399b43bb38bad5fe3f9": {
          "model_module": "@jupyter-widgets/base",
          "model_module_version": "1.2.0",
          "model_name": "LayoutModel",
          "state": {
            "_model_module": "@jupyter-widgets/base",
            "_model_module_version": "1.2.0",
            "_model_name": "LayoutModel",
            "_view_count": null,
            "_view_module": "@jupyter-widgets/base",
            "_view_module_version": "1.2.0",
            "_view_name": "LayoutView",
            "align_content": null,
            "align_items": null,
            "align_self": null,
            "border": null,
            "bottom": null,
            "display": null,
            "flex": null,
            "flex_flow": null,
            "grid_area": null,
            "grid_auto_columns": null,
            "grid_auto_flow": null,
            "grid_auto_rows": null,
            "grid_column": null,
            "grid_gap": null,
            "grid_row": null,
            "grid_template_areas": null,
            "grid_template_columns": null,
            "grid_template_rows": null,
            "height": null,
            "justify_content": null,
            "justify_items": null,
            "left": null,
            "margin": null,
            "max_height": null,
            "max_width": null,
            "min_height": null,
            "min_width": null,
            "object_fit": null,
            "object_position": null,
            "order": null,
            "overflow": null,
            "overflow_x": null,
            "overflow_y": null,
            "padding": null,
            "right": null,
            "top": null,
            "visibility": null,
            "width": null
          }
        },
        "ad71c975b20c46379fecde9f88f3aad5": {
          "model_module": "@jupyter-widgets/base",
          "model_module_version": "1.2.0",
          "model_name": "LayoutModel",
          "state": {
            "_model_module": "@jupyter-widgets/base",
            "_model_module_version": "1.2.0",
            "_model_name": "LayoutModel",
            "_view_count": null,
            "_view_module": "@jupyter-widgets/base",
            "_view_module_version": "1.2.0",
            "_view_name": "LayoutView",
            "align_content": null,
            "align_items": null,
            "align_self": null,
            "border": null,
            "bottom": null,
            "display": null,
            "flex": null,
            "flex_flow": null,
            "grid_area": null,
            "grid_auto_columns": null,
            "grid_auto_flow": null,
            "grid_auto_rows": null,
            "grid_column": null,
            "grid_gap": null,
            "grid_row": null,
            "grid_template_areas": null,
            "grid_template_columns": null,
            "grid_template_rows": null,
            "height": null,
            "justify_content": null,
            "justify_items": null,
            "left": null,
            "margin": null,
            "max_height": null,
            "max_width": null,
            "min_height": null,
            "min_width": null,
            "object_fit": null,
            "object_position": null,
            "order": null,
            "overflow": null,
            "overflow_x": null,
            "overflow_y": null,
            "padding": null,
            "right": null,
            "top": null,
            "visibility": null,
            "width": null
          }
        },
        "b2a55c7583cd4f12b81f18fc6c587731": {
          "model_module": "@jupyter-widgets/controls",
          "model_module_version": "1.5.0",
          "model_name": "FloatProgressModel",
          "state": {
            "_dom_classes": [],
            "_model_module": "@jupyter-widgets/controls",
            "_model_module_version": "1.5.0",
            "_model_name": "FloatProgressModel",
            "_view_count": null,
            "_view_module": "@jupyter-widgets/controls",
            "_view_module_version": "1.5.0",
            "_view_name": "ProgressView",
            "bar_style": "success",
            "description": "",
            "description_tooltip": null,
            "layout": "IPY_MODEL_61ad2a71e97c4ee0aa7872674bc04479",
            "max": 10,
            "min": 0,
            "orientation": "horizontal",
            "style": "IPY_MODEL_d42d903143234302bbca9b30828fbb47",
            "value": 10
          }
        },
        "b2b797114b9a43f3b13322b08af308ba": {
          "model_module": "@jupyter-widgets/controls",
          "model_module_version": "1.5.0",
          "model_name": "FloatProgressModel",
          "state": {
            "_dom_classes": [],
            "_model_module": "@jupyter-widgets/controls",
            "_model_module_version": "1.5.0",
            "_model_name": "FloatProgressModel",
            "_view_count": null,
            "_view_module": "@jupyter-widgets/controls",
            "_view_module_version": "1.5.0",
            "_view_name": "ProgressView",
            "bar_style": "success",
            "description": "",
            "description_tooltip": null,
            "layout": "IPY_MODEL_a0e46012b0b84f0389465554b10f40d7",
            "max": 5,
            "min": 0,
            "orientation": "horizontal",
            "style": "IPY_MODEL_03be1b52ba8a41739bcc2f0c761d8d79",
            "value": 5
          }
        },
        "b63817b8a5e043ceb490d8c355b4744a": {
          "model_module": "@jupyter-widgets/base",
          "model_module_version": "1.2.0",
          "model_name": "LayoutModel",
          "state": {
            "_model_module": "@jupyter-widgets/base",
            "_model_module_version": "1.2.0",
            "_model_name": "LayoutModel",
            "_view_count": null,
            "_view_module": "@jupyter-widgets/base",
            "_view_module_version": "1.2.0",
            "_view_name": "LayoutView",
            "align_content": null,
            "align_items": null,
            "align_self": null,
            "border": null,
            "bottom": null,
            "display": null,
            "flex": null,
            "flex_flow": null,
            "grid_area": null,
            "grid_auto_columns": null,
            "grid_auto_flow": null,
            "grid_auto_rows": null,
            "grid_column": null,
            "grid_gap": null,
            "grid_row": null,
            "grid_template_areas": null,
            "grid_template_columns": null,
            "grid_template_rows": null,
            "height": null,
            "justify_content": null,
            "justify_items": null,
            "left": null,
            "margin": null,
            "max_height": null,
            "max_width": null,
            "min_height": null,
            "min_width": null,
            "object_fit": null,
            "object_position": null,
            "order": null,
            "overflow": null,
            "overflow_x": null,
            "overflow_y": null,
            "padding": null,
            "right": null,
            "top": null,
            "visibility": null,
            "width": null
          }
        },
        "be5e678c4d0444499c7724536d8440dc": {
          "model_module": "@jupyter-widgets/base",
          "model_module_version": "1.2.0",
          "model_name": "LayoutModel",
          "state": {
            "_model_module": "@jupyter-widgets/base",
            "_model_module_version": "1.2.0",
            "_model_name": "LayoutModel",
            "_view_count": null,
            "_view_module": "@jupyter-widgets/base",
            "_view_module_version": "1.2.0",
            "_view_name": "LayoutView",
            "align_content": null,
            "align_items": null,
            "align_self": null,
            "border": null,
            "bottom": null,
            "display": null,
            "flex": null,
            "flex_flow": null,
            "grid_area": null,
            "grid_auto_columns": null,
            "grid_auto_flow": null,
            "grid_auto_rows": null,
            "grid_column": null,
            "grid_gap": null,
            "grid_row": null,
            "grid_template_areas": null,
            "grid_template_columns": null,
            "grid_template_rows": null,
            "height": null,
            "justify_content": null,
            "justify_items": null,
            "left": null,
            "margin": null,
            "max_height": null,
            "max_width": null,
            "min_height": null,
            "min_width": null,
            "object_fit": null,
            "object_position": null,
            "order": null,
            "overflow": null,
            "overflow_x": null,
            "overflow_y": null,
            "padding": null,
            "right": null,
            "top": null,
            "visibility": null,
            "width": null
          }
        },
        "bf92bf938cb24e71abf01cb3cf9b4ce9": {
          "model_module": "@jupyter-widgets/controls",
          "model_module_version": "1.5.0",
          "model_name": "DescriptionStyleModel",
          "state": {
            "_model_module": "@jupyter-widgets/controls",
            "_model_module_version": "1.5.0",
            "_model_name": "DescriptionStyleModel",
            "_view_count": null,
            "_view_module": "@jupyter-widgets/base",
            "_view_module_version": "1.2.0",
            "_view_name": "StyleView",
            "description_width": ""
          }
        },
        "bfd4b1a026c9419694bc8a5a3520c43b": {
          "model_module": "@jupyter-widgets/base",
          "model_module_version": "1.2.0",
          "model_name": "LayoutModel",
          "state": {
            "_model_module": "@jupyter-widgets/base",
            "_model_module_version": "1.2.0",
            "_model_name": "LayoutModel",
            "_view_count": null,
            "_view_module": "@jupyter-widgets/base",
            "_view_module_version": "1.2.0",
            "_view_name": "LayoutView",
            "align_content": null,
            "align_items": null,
            "align_self": null,
            "border": null,
            "bottom": null,
            "display": null,
            "flex": null,
            "flex_flow": null,
            "grid_area": null,
            "grid_auto_columns": null,
            "grid_auto_flow": null,
            "grid_auto_rows": null,
            "grid_column": null,
            "grid_gap": null,
            "grid_row": null,
            "grid_template_areas": null,
            "grid_template_columns": null,
            "grid_template_rows": null,
            "height": null,
            "justify_content": null,
            "justify_items": null,
            "left": null,
            "margin": null,
            "max_height": null,
            "max_width": null,
            "min_height": null,
            "min_width": null,
            "object_fit": null,
            "object_position": null,
            "order": null,
            "overflow": null,
            "overflow_x": null,
            "overflow_y": null,
            "padding": null,
            "right": null,
            "top": null,
            "visibility": null,
            "width": null
          }
        },
        "c16e498f57054469a9318100187bda5b": {
          "model_module": "@jupyter-widgets/controls",
          "model_module_version": "1.5.0",
          "model_name": "ProgressStyleModel",
          "state": {
            "_model_module": "@jupyter-widgets/controls",
            "_model_module_version": "1.5.0",
            "_model_name": "ProgressStyleModel",
            "_view_count": null,
            "_view_module": "@jupyter-widgets/base",
            "_view_module_version": "1.2.0",
            "_view_name": "StyleView",
            "bar_color": null,
            "description_width": ""
          }
        },
        "c345a1117bb144918e786a03e990bc7b": {
          "model_module": "@jupyter-widgets/base",
          "model_module_version": "1.2.0",
          "model_name": "LayoutModel",
          "state": {
            "_model_module": "@jupyter-widgets/base",
            "_model_module_version": "1.2.0",
            "_model_name": "LayoutModel",
            "_view_count": null,
            "_view_module": "@jupyter-widgets/base",
            "_view_module_version": "1.2.0",
            "_view_name": "LayoutView",
            "align_content": null,
            "align_items": null,
            "align_self": null,
            "border": null,
            "bottom": null,
            "display": null,
            "flex": null,
            "flex_flow": null,
            "grid_area": null,
            "grid_auto_columns": null,
            "grid_auto_flow": null,
            "grid_auto_rows": null,
            "grid_column": null,
            "grid_gap": null,
            "grid_row": null,
            "grid_template_areas": null,
            "grid_template_columns": null,
            "grid_template_rows": null,
            "height": null,
            "justify_content": null,
            "justify_items": null,
            "left": null,
            "margin": null,
            "max_height": null,
            "max_width": null,
            "min_height": null,
            "min_width": null,
            "object_fit": null,
            "object_position": null,
            "order": null,
            "overflow": null,
            "overflow_x": null,
            "overflow_y": null,
            "padding": null,
            "right": null,
            "top": null,
            "visibility": null,
            "width": null
          }
        },
        "c3498b73df95493ea9e36acd1c5af6bf": {
          "model_module": "@jupyter-widgets/controls",
          "model_module_version": "1.5.0",
          "model_name": "HTMLModel",
          "state": {
            "_dom_classes": [],
            "_model_module": "@jupyter-widgets/controls",
            "_model_module_version": "1.5.0",
            "_model_name": "HTMLModel",
            "_view_count": null,
            "_view_module": "@jupyter-widgets/controls",
            "_view_module_version": "1.5.0",
            "_view_name": "HTMLView",
            "description": "",
            "description_tooltip": null,
            "layout": "IPY_MODEL_3aa280a27a6045d88cb0e9fb9105d0c1",
            "placeholder": "​",
            "style": "IPY_MODEL_ee249ccefb0649b1a30ba1772996cbd4",
            "value": "100%"
          }
        },
        "c839ea5d3d3645ada84321cdbcef221f": {
          "model_module": "@jupyter-widgets/base",
          "model_module_version": "1.2.0",
          "model_name": "LayoutModel",
          "state": {
            "_model_module": "@jupyter-widgets/base",
            "_model_module_version": "1.2.0",
            "_model_name": "LayoutModel",
            "_view_count": null,
            "_view_module": "@jupyter-widgets/base",
            "_view_module_version": "1.2.0",
            "_view_name": "LayoutView",
            "align_content": null,
            "align_items": null,
            "align_self": null,
            "border": null,
            "bottom": null,
            "display": null,
            "flex": null,
            "flex_flow": null,
            "grid_area": null,
            "grid_auto_columns": null,
            "grid_auto_flow": null,
            "grid_auto_rows": null,
            "grid_column": null,
            "grid_gap": null,
            "grid_row": null,
            "grid_template_areas": null,
            "grid_template_columns": null,
            "grid_template_rows": null,
            "height": null,
            "justify_content": null,
            "justify_items": null,
            "left": null,
            "margin": null,
            "max_height": null,
            "max_width": null,
            "min_height": null,
            "min_width": null,
            "object_fit": null,
            "object_position": null,
            "order": null,
            "overflow": null,
            "overflow_x": null,
            "overflow_y": null,
            "padding": null,
            "right": null,
            "top": null,
            "visibility": null,
            "width": null
          }
        },
        "c96f788292804f26a35ea0a2d03a4a4a": {
          "model_module": "@jupyter-widgets/controls",
          "model_module_version": "1.5.0",
          "model_name": "HBoxModel",
          "state": {
            "_dom_classes": [],
            "_model_module": "@jupyter-widgets/controls",
            "_model_module_version": "1.5.0",
            "_model_name": "HBoxModel",
            "_view_count": null,
            "_view_module": "@jupyter-widgets/controls",
            "_view_module_version": "1.5.0",
            "_view_name": "HBoxView",
            "box_style": "",
            "children": [
              "IPY_MODEL_93229349785e4af293420ee088ec4137",
              "IPY_MODEL_cfb141f52dbe404cbdf28ff308679b5c",
              "IPY_MODEL_cf468f60fdb44bed98dc290a3f2bc9ea"
            ],
            "layout": "IPY_MODEL_3826c2ed56f24f709bbb58b17ad55209"
          }
        },
        "c9ceebc6b02b4c28b595961beb9f4887": {
          "model_module": "@jupyter-widgets/base",
          "model_module_version": "1.2.0",
          "model_name": "LayoutModel",
          "state": {
            "_model_module": "@jupyter-widgets/base",
            "_model_module_version": "1.2.0",
            "_model_name": "LayoutModel",
            "_view_count": null,
            "_view_module": "@jupyter-widgets/base",
            "_view_module_version": "1.2.0",
            "_view_name": "LayoutView",
            "align_content": null,
            "align_items": null,
            "align_self": null,
            "border": null,
            "bottom": null,
            "display": null,
            "flex": null,
            "flex_flow": null,
            "grid_area": null,
            "grid_auto_columns": null,
            "grid_auto_flow": null,
            "grid_auto_rows": null,
            "grid_column": null,
            "grid_gap": null,
            "grid_row": null,
            "grid_template_areas": null,
            "grid_template_columns": null,
            "grid_template_rows": null,
            "height": null,
            "justify_content": null,
            "justify_items": null,
            "left": null,
            "margin": null,
            "max_height": null,
            "max_width": null,
            "min_height": null,
            "min_width": null,
            "object_fit": null,
            "object_position": null,
            "order": null,
            "overflow": null,
            "overflow_x": null,
            "overflow_y": null,
            "padding": null,
            "right": null,
            "top": null,
            "visibility": null,
            "width": null
          }
        },
        "cda97d81a25342f188caa3aeb0b8c793": {
          "model_module": "@jupyter-widgets/controls",
          "model_module_version": "1.5.0",
          "model_name": "DescriptionStyleModel",
          "state": {
            "_model_module": "@jupyter-widgets/controls",
            "_model_module_version": "1.5.0",
            "_model_name": "DescriptionStyleModel",
            "_view_count": null,
            "_view_module": "@jupyter-widgets/base",
            "_view_module_version": "1.2.0",
            "_view_name": "StyleView",
            "description_width": ""
          }
        },
        "cebb1af30c35435fa22cf50527b3bee8": {
          "model_module": "@jupyter-widgets/controls",
          "model_module_version": "1.5.0",
          "model_name": "ProgressStyleModel",
          "state": {
            "_model_module": "@jupyter-widgets/controls",
            "_model_module_version": "1.5.0",
            "_model_name": "ProgressStyleModel",
            "_view_count": null,
            "_view_module": "@jupyter-widgets/base",
            "_view_module_version": "1.2.0",
            "_view_name": "StyleView",
            "bar_color": null,
            "description_width": ""
          }
        },
        "cf468f60fdb44bed98dc290a3f2bc9ea": {
          "model_module": "@jupyter-widgets/controls",
          "model_module_version": "1.5.0",
          "model_name": "HTMLModel",
          "state": {
            "_dom_classes": [],
            "_model_module": "@jupyter-widgets/controls",
            "_model_module_version": "1.5.0",
            "_model_name": "HTMLModel",
            "_view_count": null,
            "_view_module": "@jupyter-widgets/controls",
            "_view_module_version": "1.5.0",
            "_view_name": "HTMLView",
            "description": "",
            "description_tooltip": null,
            "layout": "IPY_MODEL_c345a1117bb144918e786a03e990bc7b",
            "placeholder": "​",
            "style": "IPY_MODEL_d2dabca50b7c4ebf97d6d38825484427",
            "value": " 5/5 [00:02&lt;00:00,  2.17it/s]"
          }
        },
        "cfb141f52dbe404cbdf28ff308679b5c": {
          "model_module": "@jupyter-widgets/controls",
          "model_module_version": "1.5.0",
          "model_name": "FloatProgressModel",
          "state": {
            "_dom_classes": [],
            "_model_module": "@jupyter-widgets/controls",
            "_model_module_version": "1.5.0",
            "_model_name": "FloatProgressModel",
            "_view_count": null,
            "_view_module": "@jupyter-widgets/controls",
            "_view_module_version": "1.5.0",
            "_view_name": "ProgressView",
            "bar_style": "success",
            "description": "",
            "description_tooltip": null,
            "layout": "IPY_MODEL_f66b4d478a6746f49d5017db1fb7b8a5",
            "max": 5,
            "min": 0,
            "orientation": "horizontal",
            "style": "IPY_MODEL_c16e498f57054469a9318100187bda5b",
            "value": 5
          }
        },
        "d2dabca50b7c4ebf97d6d38825484427": {
          "model_module": "@jupyter-widgets/controls",
          "model_module_version": "1.5.0",
          "model_name": "DescriptionStyleModel",
          "state": {
            "_model_module": "@jupyter-widgets/controls",
            "_model_module_version": "1.5.0",
            "_model_name": "DescriptionStyleModel",
            "_view_count": null,
            "_view_module": "@jupyter-widgets/base",
            "_view_module_version": "1.2.0",
            "_view_name": "StyleView",
            "description_width": ""
          }
        },
        "d42d903143234302bbca9b30828fbb47": {
          "model_module": "@jupyter-widgets/controls",
          "model_module_version": "1.5.0",
          "model_name": "ProgressStyleModel",
          "state": {
            "_model_module": "@jupyter-widgets/controls",
            "_model_module_version": "1.5.0",
            "_model_name": "ProgressStyleModel",
            "_view_count": null,
            "_view_module": "@jupyter-widgets/base",
            "_view_module_version": "1.2.0",
            "_view_name": "StyleView",
            "bar_color": null,
            "description_width": ""
          }
        },
        "d48e7ee5337146c8bc94dacaba24f427": {
          "model_module": "@jupyter-widgets/controls",
          "model_module_version": "1.5.0",
          "model_name": "HBoxModel",
          "state": {
            "_dom_classes": [],
            "_model_module": "@jupyter-widgets/controls",
            "_model_module_version": "1.5.0",
            "_model_name": "HBoxModel",
            "_view_count": null,
            "_view_module": "@jupyter-widgets/controls",
            "_view_module_version": "1.5.0",
            "_view_name": "HBoxView",
            "box_style": "",
            "children": [
              "IPY_MODEL_3c846c4512ae46dc912ad7596b88bc8d",
              "IPY_MODEL_e472b22115e3460b815e45cd4ece7546",
              "IPY_MODEL_1f2d67377672447794c7c5bc14280025"
            ],
            "layout": "IPY_MODEL_3b082f401cae472ca5511e3143958bae"
          }
        },
        "dcb05027922e4d1fb7f64a036da5f18b": {
          "model_module": "@jupyter-widgets/controls",
          "model_module_version": "1.5.0",
          "model_name": "DescriptionStyleModel",
          "state": {
            "_model_module": "@jupyter-widgets/controls",
            "_model_module_version": "1.5.0",
            "_model_name": "DescriptionStyleModel",
            "_view_count": null,
            "_view_module": "@jupyter-widgets/base",
            "_view_module_version": "1.2.0",
            "_view_name": "StyleView",
            "description_width": ""
          }
        },
        "dcef28253d6d4ccf9c72fff2ee74e7ab": {
          "model_module": "@jupyter-widgets/controls",
          "model_module_version": "1.5.0",
          "model_name": "FloatProgressModel",
          "state": {
            "_dom_classes": [],
            "_model_module": "@jupyter-widgets/controls",
            "_model_module_version": "1.5.0",
            "_model_name": "FloatProgressModel",
            "_view_count": null,
            "_view_module": "@jupyter-widgets/controls",
            "_view_module_version": "1.5.0",
            "_view_name": "ProgressView",
            "bar_style": "success",
            "description": "",
            "description_tooltip": null,
            "layout": "IPY_MODEL_aca81f6a50944399b43bb38bad5fe3f9",
            "max": 5,
            "min": 0,
            "orientation": "horizontal",
            "style": "IPY_MODEL_4d8a4c693f4448aeae4ea71e0923957d",
            "value": 5
          }
        },
        "e2204710ca904831993ef3d9115329a0": {
          "model_module": "@jupyter-widgets/controls",
          "model_module_version": "1.5.0",
          "model_name": "HTMLModel",
          "state": {
            "_dom_classes": [],
            "_model_module": "@jupyter-widgets/controls",
            "_model_module_version": "1.5.0",
            "_model_name": "HTMLModel",
            "_view_count": null,
            "_view_module": "@jupyter-widgets/controls",
            "_view_module_version": "1.5.0",
            "_view_name": "HTMLView",
            "description": "",
            "description_tooltip": null,
            "layout": "IPY_MODEL_e620938672db4967bdcb1f9987b15d29",
            "placeholder": "​",
            "style": "IPY_MODEL_3b262b51a87a453791aa07690715bab5",
            "value": "100%"
          }
        },
        "e472b22115e3460b815e45cd4ece7546": {
          "model_module": "@jupyter-widgets/controls",
          "model_module_version": "1.5.0",
          "model_name": "FloatProgressModel",
          "state": {
            "_dom_classes": [],
            "_model_module": "@jupyter-widgets/controls",
            "_model_module_version": "1.5.0",
            "_model_name": "FloatProgressModel",
            "_view_count": null,
            "_view_module": "@jupyter-widgets/controls",
            "_view_module_version": "1.5.0",
            "_view_name": "ProgressView",
            "bar_style": "",
            "description": "",
            "description_tooltip": null,
            "layout": "IPY_MODEL_3cad4d662911449ba193fe216b7d5d07",
            "max": 2,
            "min": 0,
            "orientation": "horizontal",
            "style": "IPY_MODEL_64ed346dbb86442fa7a7862e7a7555d7",
            "value": 2
          }
        },
        "e49030c3ee664c7aa685d180be895563": {
          "model_module": "@jupyter-widgets/controls",
          "model_module_version": "1.5.0",
          "model_name": "ProgressStyleModel",
          "state": {
            "_model_module": "@jupyter-widgets/controls",
            "_model_module_version": "1.5.0",
            "_model_name": "ProgressStyleModel",
            "_view_count": null,
            "_view_module": "@jupyter-widgets/base",
            "_view_module_version": "1.2.0",
            "_view_name": "StyleView",
            "bar_color": null,
            "description_width": ""
          }
        },
        "e55376616833480a9b720e97d64fb2a6": {
          "model_module": "@jupyter-widgets/base",
          "model_module_version": "1.2.0",
          "model_name": "LayoutModel",
          "state": {
            "_model_module": "@jupyter-widgets/base",
            "_model_module_version": "1.2.0",
            "_model_name": "LayoutModel",
            "_view_count": null,
            "_view_module": "@jupyter-widgets/base",
            "_view_module_version": "1.2.0",
            "_view_name": "LayoutView",
            "align_content": null,
            "align_items": null,
            "align_self": null,
            "border": null,
            "bottom": null,
            "display": null,
            "flex": null,
            "flex_flow": null,
            "grid_area": null,
            "grid_auto_columns": null,
            "grid_auto_flow": null,
            "grid_auto_rows": null,
            "grid_column": null,
            "grid_gap": null,
            "grid_row": null,
            "grid_template_areas": null,
            "grid_template_columns": null,
            "grid_template_rows": null,
            "height": null,
            "justify_content": null,
            "justify_items": null,
            "left": null,
            "margin": null,
            "max_height": null,
            "max_width": null,
            "min_height": null,
            "min_width": null,
            "object_fit": null,
            "object_position": null,
            "order": null,
            "overflow": null,
            "overflow_x": null,
            "overflow_y": null,
            "padding": null,
            "right": null,
            "top": null,
            "visibility": null,
            "width": null
          }
        },
        "e620938672db4967bdcb1f9987b15d29": {
          "model_module": "@jupyter-widgets/base",
          "model_module_version": "1.2.0",
          "model_name": "LayoutModel",
          "state": {
            "_model_module": "@jupyter-widgets/base",
            "_model_module_version": "1.2.0",
            "_model_name": "LayoutModel",
            "_view_count": null,
            "_view_module": "@jupyter-widgets/base",
            "_view_module_version": "1.2.0",
            "_view_name": "LayoutView",
            "align_content": null,
            "align_items": null,
            "align_self": null,
            "border": null,
            "bottom": null,
            "display": null,
            "flex": null,
            "flex_flow": null,
            "grid_area": null,
            "grid_auto_columns": null,
            "grid_auto_flow": null,
            "grid_auto_rows": null,
            "grid_column": null,
            "grid_gap": null,
            "grid_row": null,
            "grid_template_areas": null,
            "grid_template_columns": null,
            "grid_template_rows": null,
            "height": null,
            "justify_content": null,
            "justify_items": null,
            "left": null,
            "margin": null,
            "max_height": null,
            "max_width": null,
            "min_height": null,
            "min_width": null,
            "object_fit": null,
            "object_position": null,
            "order": null,
            "overflow": null,
            "overflow_x": null,
            "overflow_y": null,
            "padding": null,
            "right": null,
            "top": null,
            "visibility": null,
            "width": null
          }
        },
        "e86194b201aa4fb1afa0c219c9222710": {
          "model_module": "@jupyter-widgets/base",
          "model_module_version": "1.2.0",
          "model_name": "LayoutModel",
          "state": {
            "_model_module": "@jupyter-widgets/base",
            "_model_module_version": "1.2.0",
            "_model_name": "LayoutModel",
            "_view_count": null,
            "_view_module": "@jupyter-widgets/base",
            "_view_module_version": "1.2.0",
            "_view_name": "LayoutView",
            "align_content": null,
            "align_items": null,
            "align_self": null,
            "border": null,
            "bottom": null,
            "display": null,
            "flex": null,
            "flex_flow": null,
            "grid_area": null,
            "grid_auto_columns": null,
            "grid_auto_flow": null,
            "grid_auto_rows": null,
            "grid_column": null,
            "grid_gap": null,
            "grid_row": null,
            "grid_template_areas": null,
            "grid_template_columns": null,
            "grid_template_rows": null,
            "height": null,
            "justify_content": null,
            "justify_items": null,
            "left": null,
            "margin": null,
            "max_height": null,
            "max_width": null,
            "min_height": null,
            "min_width": null,
            "object_fit": null,
            "object_position": null,
            "order": null,
            "overflow": null,
            "overflow_x": null,
            "overflow_y": null,
            "padding": null,
            "right": null,
            "top": null,
            "visibility": null,
            "width": null
          }
        },
        "ed0a4450661e4ba3b0217edeeb29b816": {
          "model_module": "@jupyter-widgets/controls",
          "model_module_version": "1.5.0",
          "model_name": "HTMLModel",
          "state": {
            "_dom_classes": [],
            "_model_module": "@jupyter-widgets/controls",
            "_model_module_version": "1.5.0",
            "_model_name": "HTMLModel",
            "_view_count": null,
            "_view_module": "@jupyter-widgets/controls",
            "_view_module_version": "1.5.0",
            "_view_name": "HTMLView",
            "description": "",
            "description_tooltip": null,
            "layout": "IPY_MODEL_13a4b163ffdc4323af034989f6da3c00",
            "placeholder": "​",
            "style": "IPY_MODEL_a5bc2054f20446fdab8a55c8a83f9e27",
            "value": " 5/5 [00:04&lt;00:00,  1.28it/s]"
          }
        },
        "ee249ccefb0649b1a30ba1772996cbd4": {
          "model_module": "@jupyter-widgets/controls",
          "model_module_version": "1.5.0",
          "model_name": "DescriptionStyleModel",
          "state": {
            "_model_module": "@jupyter-widgets/controls",
            "_model_module_version": "1.5.0",
            "_model_name": "DescriptionStyleModel",
            "_view_count": null,
            "_view_module": "@jupyter-widgets/base",
            "_view_module_version": "1.2.0",
            "_view_name": "StyleView",
            "description_width": ""
          }
        },
        "ef33eff124944841af387bd6dc0db218": {
          "model_module": "@jupyter-widgets/controls",
          "model_module_version": "1.5.0",
          "model_name": "HTMLModel",
          "state": {
            "_dom_classes": [],
            "_model_module": "@jupyter-widgets/controls",
            "_model_module_version": "1.5.0",
            "_model_name": "HTMLModel",
            "_view_count": null,
            "_view_module": "@jupyter-widgets/controls",
            "_view_module_version": "1.5.0",
            "_view_name": "HTMLView",
            "description": "",
            "description_tooltip": null,
            "layout": "IPY_MODEL_7c79f4b9193c452d820a5583da81b002",
            "placeholder": "​",
            "style": "IPY_MODEL_cda97d81a25342f188caa3aeb0b8c793",
            "value": "100%"
          }
        },
        "f404d2d8dab240e1856f4ee0f4f148ca": {
          "model_module": "@jupyter-widgets/base",
          "model_module_version": "1.2.0",
          "model_name": "LayoutModel",
          "state": {
            "_model_module": "@jupyter-widgets/base",
            "_model_module_version": "1.2.0",
            "_model_name": "LayoutModel",
            "_view_count": null,
            "_view_module": "@jupyter-widgets/base",
            "_view_module_version": "1.2.0",
            "_view_name": "LayoutView",
            "align_content": null,
            "align_items": null,
            "align_self": null,
            "border": null,
            "bottom": null,
            "display": null,
            "flex": null,
            "flex_flow": null,
            "grid_area": null,
            "grid_auto_columns": null,
            "grid_auto_flow": null,
            "grid_auto_rows": null,
            "grid_column": null,
            "grid_gap": null,
            "grid_row": null,
            "grid_template_areas": null,
            "grid_template_columns": null,
            "grid_template_rows": null,
            "height": null,
            "justify_content": null,
            "justify_items": null,
            "left": null,
            "margin": null,
            "max_height": null,
            "max_width": null,
            "min_height": null,
            "min_width": null,
            "object_fit": null,
            "object_position": null,
            "order": null,
            "overflow": null,
            "overflow_x": null,
            "overflow_y": null,
            "padding": null,
            "right": null,
            "top": null,
            "visibility": null,
            "width": null
          }
        },
        "f66b4d478a6746f49d5017db1fb7b8a5": {
          "model_module": "@jupyter-widgets/base",
          "model_module_version": "1.2.0",
          "model_name": "LayoutModel",
          "state": {
            "_model_module": "@jupyter-widgets/base",
            "_model_module_version": "1.2.0",
            "_model_name": "LayoutModel",
            "_view_count": null,
            "_view_module": "@jupyter-widgets/base",
            "_view_module_version": "1.2.0",
            "_view_name": "LayoutView",
            "align_content": null,
            "align_items": null,
            "align_self": null,
            "border": null,
            "bottom": null,
            "display": null,
            "flex": null,
            "flex_flow": null,
            "grid_area": null,
            "grid_auto_columns": null,
            "grid_auto_flow": null,
            "grid_auto_rows": null,
            "grid_column": null,
            "grid_gap": null,
            "grid_row": null,
            "grid_template_areas": null,
            "grid_template_columns": null,
            "grid_template_rows": null,
            "height": null,
            "justify_content": null,
            "justify_items": null,
            "left": null,
            "margin": null,
            "max_height": null,
            "max_width": null,
            "min_height": null,
            "min_width": null,
            "object_fit": null,
            "object_position": null,
            "order": null,
            "overflow": null,
            "overflow_x": null,
            "overflow_y": null,
            "padding": null,
            "right": null,
            "top": null,
            "visibility": null,
            "width": null
          }
        },
        "fc550d54ce0c42c6b7d903dbb9fa18c8": {
          "model_module": "@jupyter-widgets/controls",
          "model_module_version": "1.5.0",
          "model_name": "HTMLModel",
          "state": {
            "_dom_classes": [],
            "_model_module": "@jupyter-widgets/controls",
            "_model_module_version": "1.5.0",
            "_model_name": "HTMLModel",
            "_view_count": null,
            "_view_module": "@jupyter-widgets/controls",
            "_view_module_version": "1.5.0",
            "_view_name": "HTMLView",
            "description": "",
            "description_tooltip": null,
            "layout": "IPY_MODEL_1434db83fea7448a874ba182d547b4e1",
            "placeholder": "​",
            "style": "IPY_MODEL_1003bb5fceef4dbaa0c46a88726fc741",
            "value": " 10/10 [00:19&lt;00:00,  1.25s/it]"
          }
        },
        "ff12835a588f49838eee15b68408cb26": {
          "model_module": "@jupyter-widgets/base",
          "model_module_version": "1.2.0",
          "model_name": "LayoutModel",
          "state": {
            "_model_module": "@jupyter-widgets/base",
            "_model_module_version": "1.2.0",
            "_model_name": "LayoutModel",
            "_view_count": null,
            "_view_module": "@jupyter-widgets/base",
            "_view_module_version": "1.2.0",
            "_view_name": "LayoutView",
            "align_content": null,
            "align_items": null,
            "align_self": null,
            "border": null,
            "bottom": null,
            "display": null,
            "flex": null,
            "flex_flow": null,
            "grid_area": null,
            "grid_auto_columns": null,
            "grid_auto_flow": null,
            "grid_auto_rows": null,
            "grid_column": null,
            "grid_gap": null,
            "grid_row": null,
            "grid_template_areas": null,
            "grid_template_columns": null,
            "grid_template_rows": null,
            "height": null,
            "justify_content": null,
            "justify_items": null,
            "left": null,
            "margin": null,
            "max_height": null,
            "max_width": null,
            "min_height": null,
            "min_width": null,
            "object_fit": null,
            "object_position": null,
            "order": null,
            "overflow": null,
            "overflow_x": null,
            "overflow_y": null,
            "padding": null,
            "right": null,
            "top": null,
            "visibility": null,
            "width": null
          }
        },
        "fff0ed064be54d98adb7df509e5cdded": {
          "model_module": "@jupyter-widgets/controls",
          "model_module_version": "1.5.0",
          "model_name": "DescriptionStyleModel",
          "state": {
            "_model_module": "@jupyter-widgets/controls",
            "_model_module_version": "1.5.0",
            "_model_name": "DescriptionStyleModel",
            "_view_count": null,
            "_view_module": "@jupyter-widgets/base",
            "_view_module_version": "1.2.0",
            "_view_name": "StyleView",
            "description_width": ""
          }
        }
      }
    }
  },
  "nbformat": 4,
  "nbformat_minor": 0
}
